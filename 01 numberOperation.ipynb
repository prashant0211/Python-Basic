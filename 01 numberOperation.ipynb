{
  "nbformat": 4,
  "nbformat_minor": 0,
  "metadata": {
    "colab": {
      "name": "numberOperation.ipynb",
      "provenance": [],
      "collapsed_sections": []
    },
    "kernelspec": {
      "name": "python3",
      "display_name": "Python 3"
    }
  },
  "cells": [
    {
      "cell_type": "markdown",
      "metadata": {
        "id": "KEyK3S-eToRT",
        "colab_type": "text"
      },
      "source": [
        "# Python Basic 01\n"
      ]
    },
    {
      "cell_type": "markdown",
      "metadata": {
        "colab_type": "text",
        "id": "KdDnkkfLkomc"
      },
      "source": [
        "\n",
        "```\n",
        "Here im using google colab,\n",
        "it is a cloud based python environment,\n",
        "its best option for learn python.\n",
        "```\n",
        "[Google Colab](https://colab.research.google.com/)\n",
        "\n"
      ]
    },
    {
      "cell_type": "markdown",
      "metadata": {
        "id": "B5bvqnAbk1w-",
        "colab_type": "text"
      },
      "source": [
        "\n",
        "\n",
        "```\n",
        "\n",
        "In python \n",
        "# is used for comment\n",
        "\"\"\"text in tripple quote used as docstring similar to comment\"\"\"\n",
        "\n",
        "```"
      ]
    },
    {
      "cell_type": "markdown",
      "metadata": {
        "id": "wFc-iGkQGh8S",
        "colab_type": "text"
      },
      "source": [
        "# Number Operations"
      ]
    },
    {
      "cell_type": "markdown",
      "metadata": {
        "id": "KLAIIzzdKVeX",
        "colab_type": "text"
      },
      "source": [
        "Data types\n",
        "\n",
        "---\n",
        "\n"
      ]
    },
    {
      "cell_type": "code",
      "metadata": {
        "id": "I8yRzHk-GqaH",
        "colab_type": "code",
        "outputId": "148d98d6-4d35-4620-8c18-afc03456654e",
        "colab": {
          "base_uri": "https://localhost:8080/",
          "height": 35
        }
      },
      "source": [
        "#stores integer number data type\n",
        "#in python int has not limit restriction, it can store as much as system memory.\n",
        "#type is a function that returns the data type of a variable.\n",
        "num=5\n",
        "type(num)"
      ],
      "execution_count": 0,
      "outputs": [
        {
          "output_type": "execute_result",
          "data": {
            "text/plain": [
              "int"
            ]
          },
          "metadata": {
            "tags": []
          },
          "execution_count": 1
        }
      ]
    },
    {
      "cell_type": "code",
      "metadata": {
        "id": "uQ2lIbcbG1DS",
        "colab_type": "code",
        "outputId": "e13b3d63-8f49-495f-8f26-376ce1330441",
        "colab": {
          "base_uri": "https://localhost:8080/",
          "height": 35
        }
      },
      "source": [
        "#stores float number data type\n",
        "num=5.6\n",
        "type(num)"
      ],
      "execution_count": 0,
      "outputs": [
        {
          "output_type": "execute_result",
          "data": {
            "text/plain": [
              "float"
            ]
          },
          "metadata": {
            "tags": []
          },
          "execution_count": 2
        }
      ]
    },
    {
      "cell_type": "code",
      "metadata": {
        "id": "zKy5Lq2rHgth",
        "colab_type": "code",
        "outputId": "f04b926d-b777-47b6-9937-880f1dcf8b87",
        "colab": {
          "base_uri": "https://localhost:8080/",
          "height": 35
        }
      },
      "source": [
        "#stores string data type can assign by single quote double quote or triple quote\n",
        "num='string'\n",
        "type(num)"
      ],
      "execution_count": 0,
      "outputs": [
        {
          "output_type": "execute_result",
          "data": {
            "text/plain": [
              "str"
            ]
          },
          "metadata": {
            "tags": []
          },
          "execution_count": 3
        }
      ]
    },
    {
      "cell_type": "code",
      "metadata": {
        "id": "wWa9s0aQHnvq",
        "colab_type": "code",
        "outputId": "91638c2d-3af8-46a0-fa5d-b8f54ed4f845",
        "colab": {
          "base_uri": "https://localhost:8080/",
          "height": 35
        }
      },
      "source": [
        "#stores complex number data type\n",
        "num=2+6j\n",
        "type(num)"
      ],
      "execution_count": 0,
      "outputs": [
        {
          "output_type": "execute_result",
          "data": {
            "text/plain": [
              "complex"
            ]
          },
          "metadata": {
            "tags": []
          },
          "execution_count": 4
        }
      ]
    },
    {
      "cell_type": "code",
      "metadata": {
        "id": "RtvvclByHyYk",
        "colab_type": "code",
        "outputId": "a981400d-5290-4569-edb7-7c70f1b85347",
        "colab": {
          "base_uri": "https://localhost:8080/",
          "height": 35
        }
      },
      "source": [
        "#real part of complex number\n",
        "num.real"
      ],
      "execution_count": 0,
      "outputs": [
        {
          "output_type": "execute_result",
          "data": {
            "text/plain": [
              "2.0"
            ]
          },
          "metadata": {
            "tags": []
          },
          "execution_count": 6
        }
      ]
    },
    {
      "cell_type": "code",
      "metadata": {
        "id": "lSzydl4hICIw",
        "colab_type": "code",
        "outputId": "caefe398-6a41-44bd-bed8-b811354d02b6",
        "colab": {
          "base_uri": "https://localhost:8080/",
          "height": 35
        }
      },
      "source": [
        "#imaginary part of complex number\n",
        "num.imag"
      ],
      "execution_count": 0,
      "outputs": [
        {
          "output_type": "execute_result",
          "data": {
            "text/plain": [
              "6.0"
            ]
          },
          "metadata": {
            "tags": []
          },
          "execution_count": 7
        }
      ]
    },
    {
      "cell_type": "code",
      "metadata": {
        "id": "RuTFeghRIHmb",
        "colab_type": "code",
        "outputId": "83ae0b98-5059-4ae8-8945-7f59ded5f753",
        "colab": {
          "base_uri": "https://localhost:8080/",
          "height": 35
        }
      },
      "source": [
        "#stores negative number\n",
        "num=-23412\n",
        "num"
      ],
      "execution_count": 0,
      "outputs": [
        {
          "output_type": "execute_result",
          "data": {
            "text/plain": [
              "-23412"
            ]
          },
          "metadata": {
            "tags": []
          },
          "execution_count": 8
        }
      ]
    },
    {
      "cell_type": "markdown",
      "metadata": {
        "id": "slbJ1Ha0Ae6-",
        "colab_type": "text"
      },
      "source": [
        "#### operators\n",
        "```\n",
        "\n",
        "# arithmatic\n",
        "# logical\n",
        "# comaprisons\n",
        "# identity\n",
        "# membership\n",
        "# assigning\n",
        "\n",
        "\n",
        "```\n",
        "\n"
      ]
    },
    {
      "cell_type": "markdown",
      "metadata": {
        "id": "44qs6FUDKie7",
        "colab_type": "text"
      },
      "source": [
        "Arithmatic Operations\n",
        "\n",
        "---\n",
        "\n",
        "\n"
      ]
    },
    {
      "cell_type": "code",
      "metadata": {
        "id": "YzPaDgHvKsqL",
        "colab_type": "code",
        "outputId": "1c3c67e7-7524-49c0-e20c-29093a990b11",
        "colab": {
          "base_uri": "https://localhost:8080/",
          "height": 35
        }
      },
      "source": [
        "num1 = 9\n",
        "num2 = 3\n",
        "#Addition\n",
        "num1 + num2\n"
      ],
      "execution_count": 0,
      "outputs": [
        {
          "output_type": "execute_result",
          "data": {
            "text/plain": [
              "12"
            ]
          },
          "metadata": {
            "tags": []
          },
          "execution_count": 3
        }
      ]
    },
    {
      "cell_type": "code",
      "metadata": {
        "id": "5BeIwWePLDch",
        "colab_type": "code",
        "outputId": "2658c131-22ac-4aa1-81d9-f9bc4c140fec",
        "colab": {
          "base_uri": "https://localhost:8080/",
          "height": 35
        }
      },
      "source": [
        "#subtraction\n",
        "num1 - num2"
      ],
      "execution_count": 0,
      "outputs": [
        {
          "output_type": "execute_result",
          "data": {
            "text/plain": [
              "6"
            ]
          },
          "metadata": {
            "tags": []
          },
          "execution_count": 4
        }
      ]
    },
    {
      "cell_type": "code",
      "metadata": {
        "id": "hVDBzg4HLIHM",
        "colab_type": "code",
        "outputId": "3b27ccab-23df-4f89-85f9-208987cc5c6a",
        "colab": {
          "base_uri": "https://localhost:8080/",
          "height": 35
        }
      },
      "source": [
        "#Multiplication\n",
        "num1 * num2"
      ],
      "execution_count": 0,
      "outputs": [
        {
          "output_type": "execute_result",
          "data": {
            "text/plain": [
              "27"
            ]
          },
          "metadata": {
            "tags": []
          },
          "execution_count": 5
        }
      ]
    },
    {
      "cell_type": "code",
      "metadata": {
        "id": "4NfJRV9iLQUN",
        "colab_type": "code",
        "outputId": "c4b4c462-2adb-49e9-db0a-4c6a3c0ce254",
        "colab": {
          "base_uri": "https://localhost:8080/",
          "height": 35
        }
      },
      "source": [
        "#Division\n",
        "#division operation converts the result into float format.\n",
        "# its a quotiont of a division\n",
        "num1 / num2"
      ],
      "execution_count": 0,
      "outputs": [
        {
          "output_type": "execute_result",
          "data": {
            "text/plain": [
              "3.0"
            ]
          },
          "metadata": {
            "tags": []
          },
          "execution_count": 6
        }
      ]
    },
    {
      "cell_type": "code",
      "metadata": {
        "id": "aK8dPasILieJ",
        "colab_type": "code",
        "outputId": "9fa87ae1-1f75-4627-f0f0-67cd15bca5b3",
        "colab": {
          "base_uri": "https://localhost:8080/",
          "height": 35
        }
      },
      "source": [
        "#Division with int value output\n",
        "#it discards the point value.\n",
        "num1 // num2"
      ],
      "execution_count": 0,
      "outputs": [
        {
          "output_type": "execute_result",
          "data": {
            "text/plain": [
              "3"
            ]
          },
          "metadata": {
            "tags": []
          },
          "execution_count": 7
        }
      ]
    },
    {
      "cell_type": "code",
      "metadata": {
        "id": "lh8gtunoMPmy",
        "colab_type": "code",
        "outputId": "708d1043-2208-413d-9442-a8ecbb8e86c5",
        "colab": {
          "base_uri": "https://localhost:8080/",
          "height": 35
        }
      },
      "source": [
        "#Modulus\n",
        "# it is the reminder of division\n",
        "num1 % num2"
      ],
      "execution_count": 0,
      "outputs": [
        {
          "output_type": "execute_result",
          "data": {
            "text/plain": [
              "0"
            ]
          },
          "metadata": {
            "tags": []
          },
          "execution_count": 8
        }
      ]
    },
    {
      "cell_type": "code",
      "metadata": {
        "id": "83ZbE0qIMYJ0",
        "colab_type": "code",
        "outputId": "aaaa8b33-761e-42a0-c28b-4793a688df3b",
        "colab": {
          "base_uri": "https://localhost:8080/",
          "height": 35
        }
      },
      "source": [
        "#Power\n",
        "num1 ** num2"
      ],
      "execution_count": 0,
      "outputs": [
        {
          "output_type": "execute_result",
          "data": {
            "text/plain": [
              "729"
            ]
          },
          "metadata": {
            "tags": []
          },
          "execution_count": 9
        }
      ]
    },
    {
      "cell_type": "code",
      "metadata": {
        "id": "qfyVL4kvCNHo",
        "colab_type": "code",
        "outputId": "c08e266e-71dd-45d6-9bc6-331c3d7107cd",
        "colab": {
          "base_uri": "https://localhost:8080/",
          "height": 35
        }
      },
      "source": [
        "# assignment operator\n",
        "# b += 5 ==> b\n",
        "b=25\n",
        "b*=5\n",
        "print(b)"
      ],
      "execution_count": 0,
      "outputs": [
        {
          "output_type": "stream",
          "text": [
            "125\n"
          ],
          "name": "stdout"
        }
      ]
    },
    {
      "cell_type": "markdown",
      "metadata": {
        "id": "8l8-atPHDRnW",
        "colab_type": "text"
      },
      "source": [
        "**Comparision operator**\n",
        "\n",
        "\n",
        "\n",
        "```\n",
        "# ==\n",
        "# !=\n",
        "# <=\n",
        "# >=\n",
        "# >\n",
        "# <\n",
        "# result is in the form of True or false\n",
        "```\n",
        "\n",
        "\n"
      ]
    },
    {
      "cell_type": "markdown",
      "metadata": {
        "id": "IbWDMXetE5zd",
        "colab_type": "text"
      },
      "source": [
        "**Logical operator**\n",
        "\n",
        "```\n",
        "## and\n",
        "## or\n",
        "## not\n",
        "```\n",
        "\n"
      ]
    },
    {
      "cell_type": "markdown",
      "metadata": {
        "id": "-r87bEPtGmit",
        "colab_type": "text"
      },
      "source": [
        "**Identity Operators**\n",
        "\n",
        "\n",
        "```\n",
        "# is\n",
        "# is not\n",
        "## it compares the location\n",
        "[is vs ==](https://www.mysamplecode.com/2012/11/python-difference-between-is-and-equals.html)\n",
        "```\n",
        "\n",
        "**Membership Operators**\n",
        "*shows the membership*\n",
        "\n",
        "```\n",
        "# in\n",
        "# not in\n",
        "```\n",
        "\n",
        "\n",
        "\n"
      ]
    },
    {
      "cell_type": "code",
      "metadata": {
        "id": "IWpEiSFqX3sz",
        "colab_type": "code",
        "colab": {}
      },
      "source": [
        "a = b = [1,2,3]\n",
        "c=[1,2,3]"
      ],
      "execution_count": 0,
      "outputs": []
    },
    {
      "cell_type": "code",
      "metadata": {
        "id": "giOFIdt6YHp5",
        "colab_type": "code",
        "outputId": "44a3e101-7dd0-4019-ba1b-92131d3b040c",
        "colab": {
          "base_uri": "https://localhost:8080/",
          "height": 35
        }
      },
      "source": [
        "a is b"
      ],
      "execution_count": 0,
      "outputs": [
        {
          "output_type": "execute_result",
          "data": {
            "text/plain": [
              "True"
            ]
          },
          "metadata": {
            "tags": []
          },
          "execution_count": 19
        }
      ]
    },
    {
      "cell_type": "code",
      "metadata": {
        "id": "UN5_0LXDYMTQ",
        "colab_type": "code",
        "outputId": "162cede9-626e-4059-8cd1-391222458367",
        "colab": {
          "base_uri": "https://localhost:8080/",
          "height": 35
        }
      },
      "source": [
        "a is c"
      ],
      "execution_count": 0,
      "outputs": [
        {
          "output_type": "execute_result",
          "data": {
            "text/plain": [
              "False"
            ]
          },
          "metadata": {
            "tags": []
          },
          "execution_count": 20
        }
      ]
    },
    {
      "cell_type": "code",
      "metadata": {
        "id": "nNyb7hoXYOHX",
        "colab_type": "code",
        "colab": {}
      },
      "source": [
        ""
      ],
      "execution_count": 0,
      "outputs": []
    },
    {
      "cell_type": "markdown",
      "metadata": {
        "id": "TV8yUUoaIevd",
        "colab_type": "text"
      },
      "source": [
        "**Type casting**"
      ]
    },
    {
      "cell_type": "code",
      "metadata": {
        "id": "i-OxhgKiIiq0",
        "colab_type": "code",
        "outputId": "df6d9aaa-37b8-4d99-847d-349b6ad7cd5c",
        "colab": {
          "base_uri": "https://localhost:8080/",
          "height": 35
        }
      },
      "source": [
        "a = 1.2\n",
        "type(a)\n",
        "int(a)\n",
        "type(a)"
      ],
      "execution_count": 0,
      "outputs": [
        {
          "output_type": "execute_result",
          "data": {
            "text/plain": [
              "float"
            ]
          },
          "metadata": {
            "tags": []
          },
          "execution_count": 13
        }
      ]
    },
    {
      "cell_type": "code",
      "metadata": {
        "id": "WlLrCYSzDQ7A",
        "colab_type": "code",
        "colab": {}
      },
      "source": [
        ""
      ],
      "execution_count": 0,
      "outputs": []
    },
    {
      "cell_type": "markdown",
      "metadata": {
        "id": "U9f-e2QYM3P2",
        "colab_type": "text"
      },
      "source": [
        "Conversions\n",
        "\n",
        "---\n",
        "\n"
      ]
    },
    {
      "cell_type": "code",
      "metadata": {
        "id": "0QR6he3dNa6i",
        "colab_type": "code",
        "outputId": "ebe8fbdc-cb2c-4c28-8179-945326869712",
        "colab": {
          "base_uri": "https://localhost:8080/",
          "height": 52
        }
      },
      "source": [
        "#x is stored a sting value\n",
        "x=\"192\"\n",
        "print(x)\n",
        "type(x)"
      ],
      "execution_count": 0,
      "outputs": [
        {
          "output_type": "stream",
          "text": [
            "192\n"
          ],
          "name": "stdout"
        },
        {
          "output_type": "execute_result",
          "data": {
            "text/plain": [
              "str"
            ]
          },
          "metadata": {
            "tags": []
          },
          "execution_count": 20
        }
      ]
    },
    {
      "cell_type": "code",
      "metadata": {
        "id": "huY-oI81NiDw",
        "colab_type": "code",
        "outputId": "a6d0ea1e-0c4c-4467-9042-49b074b80422",
        "colab": {
          "base_uri": "https://localhost:8080/",
          "height": 52
        }
      },
      "source": [
        "#string is converted to integer\n",
        "x=int(x)\n",
        "print(x)\n",
        "type(x)"
      ],
      "execution_count": 0,
      "outputs": [
        {
          "output_type": "stream",
          "text": [
            "192\n"
          ],
          "name": "stdout"
        },
        {
          "output_type": "execute_result",
          "data": {
            "text/plain": [
              "int"
            ]
          },
          "metadata": {
            "tags": []
          },
          "execution_count": 21
        }
      ]
    },
    {
      "cell_type": "code",
      "metadata": {
        "id": "-snXJxbdNqM0",
        "colab_type": "code",
        "outputId": "c59452ad-e477-4684-d9d4-10b38457dc98",
        "colab": {
          "base_uri": "https://localhost:8080/",
          "height": 52
        }
      },
      "source": [
        "#integer is converted to float\n",
        "x=float(x)\n",
        "print(x)\n",
        "type(x)"
      ],
      "execution_count": 0,
      "outputs": [
        {
          "output_type": "stream",
          "text": [
            "192.0\n"
          ],
          "name": "stdout"
        },
        {
          "output_type": "execute_result",
          "data": {
            "text/plain": [
              "float"
            ]
          },
          "metadata": {
            "tags": []
          },
          "execution_count": 22
        }
      ]
    },
    {
      "cell_type": "code",
      "metadata": {
        "id": "yYoY0ZfsNv3B",
        "colab_type": "code",
        "outputId": "4197266c-5def-433c-a8a1-e0c975e70d29",
        "colab": {
          "base_uri": "https://localhost:8080/",
          "height": 52
        }
      },
      "source": [
        "#float to complex\n",
        "x=complex(x)\n",
        "print(x)\n",
        "type(x)"
      ],
      "execution_count": 0,
      "outputs": [
        {
          "output_type": "stream",
          "text": [
            "(192+0j)\n"
          ],
          "name": "stdout"
        },
        {
          "output_type": "execute_result",
          "data": {
            "text/plain": [
              "complex"
            ]
          },
          "metadata": {
            "tags": []
          },
          "execution_count": 23
        }
      ]
    },
    {
      "cell_type": "code",
      "metadata": {
        "id": "-_klgragMe3w",
        "colab_type": "code",
        "outputId": "ca630949-a06c-44c2-e765-22de9636f61f",
        "colab": {
          "base_uri": "https://localhost:8080/",
          "height": 35
        }
      },
      "source": [
        "#function to create complex number\n",
        "print(complex(2,5))"
      ],
      "execution_count": 0,
      "outputs": [
        {
          "output_type": "stream",
          "text": [
            "(2+5j)\n"
          ],
          "name": "stdout"
        }
      ]
    },
    {
      "cell_type": "markdown",
      "metadata": {
        "id": "emxu6L8JO8NG",
        "colab_type": "text"
      },
      "source": [
        "Functions that works with number\n",
        "\n",
        "---\n",
        "\n"
      ]
    },
    {
      "cell_type": "code",
      "metadata": {
        "id": "QUR0WeVBPBBO",
        "colab_type": "code",
        "outputId": "587e139d-2e25-4541-c52f-fef5b001445d",
        "colab": {
          "base_uri": "https://localhost:8080/",
          "height": 35
        }
      },
      "source": [
        "#absolute value abs()\n",
        "#whether the number positive or negative it returns positive value.\n",
        "num=-23.5\n",
        "print(abs(num))"
      ],
      "execution_count": 0,
      "outputs": [
        {
          "output_type": "stream",
          "text": [
            "23.5\n"
          ],
          "name": "stdout"
        }
      ]
    },
    {
      "cell_type": "code",
      "metadata": {
        "id": "67_zB-q9P7JY",
        "colab_type": "code",
        "outputId": "6eae2254-e7ab-4719-a2af-d22d40737c97",
        "colab": {
          "base_uri": "https://localhost:8080/",
          "height": 35
        }
      },
      "source": [
        "# math library contains more mathematical functions.\n",
        "import math\n",
        "num = 10\n",
        "# Expotional value math.exp()\n",
        "# Expotional is the value which is raise to e.\n",
        "#in this example 10 raise to e.\n",
        "print(math.exp(num))"
      ],
      "execution_count": 0,
      "outputs": [
        {
          "output_type": "stream",
          "text": [
            "22026.465794806718\n"
          ],
          "name": "stdout"
        }
      ]
    },
    {
      "cell_type": "code",
      "metadata": {
        "id": "0uM6pebPQ5BJ",
        "colab_type": "code",
        "outputId": "a9464966-375d-495b-a14e-0927f01daceb",
        "colab": {
          "base_uri": "https://localhost:8080/",
          "height": 35
        }
      },
      "source": [
        "# constants\n",
        "# value of e\n",
        "print(math.e)"
      ],
      "execution_count": 0,
      "outputs": [
        {
          "output_type": "stream",
          "text": [
            "2.718281828459045\n"
          ],
          "name": "stdout"
        }
      ]
    },
    {
      "cell_type": "code",
      "metadata": {
        "id": "TBw6gB7oRN3p",
        "colab_type": "code",
        "outputId": "b0fc4d28-78b8-426c-d731-a47d7ff59757",
        "colab": {
          "base_uri": "https://localhost:8080/",
          "height": 35
        }
      },
      "source": [
        "#value of pi\n",
        "print(math.pi)"
      ],
      "execution_count": 0,
      "outputs": [
        {
          "output_type": "stream",
          "text": [
            "3.141592653589793\n"
          ],
          "name": "stdout"
        }
      ]
    },
    {
      "cell_type": "code",
      "metadata": {
        "id": "KhjJevHSRTYW",
        "colab_type": "code",
        "outputId": "37d745f5-9201-4434-8488-c1b218a30c77",
        "colab": {
          "base_uri": "https://localhost:8080/",
          "height": 52
        }
      },
      "source": [
        "#square root by math.sqrt()\n",
        "#it return the float value\n",
        "print(math.sqrt(9))\n",
        "print(math.sqrt(5))"
      ],
      "execution_count": 0,
      "outputs": [
        {
          "output_type": "stream",
          "text": [
            "3.0\n",
            "2.23606797749979\n"
          ],
          "name": "stdout"
        }
      ]
    },
    {
      "cell_type": "code",
      "metadata": {
        "id": "d1y3Qh-fdBw_",
        "colab_type": "code",
        "outputId": "5027aef4-fe6a-422b-98ab-353a2d1bc771",
        "colab": {
          "base_uri": "https://localhost:8080/",
          "height": 35
        }
      },
      "source": [
        "#smallest number from the array\n",
        "min(2,4,6,1,8)"
      ],
      "execution_count": 0,
      "outputs": [
        {
          "output_type": "execute_result",
          "data": {
            "text/plain": [
              "1"
            ]
          },
          "metadata": {
            "tags": []
          },
          "execution_count": 32
        }
      ]
    },
    {
      "cell_type": "markdown",
      "metadata": {
        "id": "ujd1G3fekxE7",
        "colab_type": "text"
      },
      "source": [
        "# Programs"
      ]
    },
    {
      "cell_type": "markdown",
      "metadata": {
        "id": "PPoNBBUllgAi",
        "colab_type": "text"
      },
      "source": [
        "**1) WAP to find the number is prime or not.**\n",
        "\n",
        "---\n",
        "\n",
        "```\n",
        "# A prime number is a whole number greater than 1 whose only factors are 1 and itself.\n",
        "# The first few prime numbers are 2, 3, 5, 7, 11, 13, 17, 19, 23 and 29.\n",
        "\n",
        "```"
      ]
    },
    {
      "cell_type": "code",
      "metadata": {
        "id": "-7sW7jQOlxFE",
        "colab_type": "code",
        "outputId": "7bc035b9-7b9d-4bfd-a82c-9edab7f8eded",
        "colab": {
          "base_uri": "https://localhost:8080/",
          "height": 0
        }
      },
      "source": [
        "# input() is used to take input from keyboard.\n",
        "# it takes input as a string data type.\n",
        "n = input(\"Enter a number\")\n",
        "# converted string data type to integer.\n",
        "n = int(n)\n",
        "# flag is used to store the result.\n",
        "flag = 0\n",
        "# for loop starts from 2 to n-1, it check the modulus with each number.\n",
        "for i in range(2,n):\n",
        "  if n%i == 0:\n",
        "    flag = 1\n",
        "    print(\"%d is not a prime number\"%n)\n",
        "    break\n",
        "if flag == 0:\n",
        "  print(\"%d is a prime number\"%n)"
      ],
      "execution_count": 1,
      "outputs": [
        {
          "output_type": "stream",
          "text": [
            "Enter a number2\n",
            "2 is a prime number\n"
          ],
          "name": "stdout"
        }
      ]
    },
    {
      "cell_type": "markdown",
      "metadata": {
        "id": "s4VVAdz7p3Ix",
        "colab_type": "text"
      },
      "source": [
        "**2) WAP to solve the quadratric equation.**\n",
        "\n",
        "---\n",
        "\n",
        "\n",
        "\n",
        "```\n",
        "# quadratic equation is any equation having the form,\n",
        "```\n",
        "\n",
        ">>$ax^2 + bx^2 + cx^2 = 0$ \n",
        "\n",
        "```\n",
        "# to solve this equation first we need to calculate d,is know as discriminant\n",
        "```\n",
        ">>$d = b^2-4ac$\n",
        "\n",
        "\n",
        "* positive, there are 2 real solutions\n",
        "*zero, there is one real solution\n",
        "*negative, there are 2 complex solutions\n",
        "\n",
        "\n",
        "\n",
        "```\n",
        "# if d<0 then,\n",
        "```\n",
        ">>$\\frac{-b}{2a}\\ + i\\frac{\\sqrt{-d}\\}{2a}\\ and  \\frac{-b}{2a}\\ + i\\frac{\\sqrt{-d}\\}{2a}\\$ \n",
        "\n",
        "```\n",
        "# if d>0 then, \n",
        "```\n",
        ">>$x=\\frac{-b+-\\sqrt{d}\\}{2a}\\$ \n",
        "\n",
        "\n",
        "\n",
        "\n",
        "\n"
      ]
    },
    {
      "cell_type": "code",
      "metadata": {
        "colab_type": "code",
        "outputId": "e0f4ca1e-d803-4046-a384-4528e1b6b524",
        "id": "CQQ4iLUD4b52",
        "colab": {
          "base_uri": "https://localhost:8080/",
          "height": 121
        }
      },
      "source": [
        "import math\n",
        "a=int(input(\"Enter value of a\"))\n",
        "b=int(input(\"Enter value of b\"))\n",
        "c=int(input(\"Enter value of c\"))\n",
        "d= (b*b)-(4*a*c)\n",
        "if d<0:\n",
        "  sol1=-b/(2*a)\n",
        "  sol2=math.sqrt(-d)/2*a\n",
        "  print(\"the solutions are\\n\", complex(sol1,sol2))\n",
        "  print(complex(sol1,-sol2))\n",
        "else:\n",
        "  sol1=(-b-math.sqrt(d))/(2*a)\n",
        "  sol2=(-b+math.sqrt(d))/(2*a)\n",
        "  print(\"the solutions are\\n\", sol1)\n",
        "  print(sol2)"
      ],
      "execution_count": 0,
      "outputs": [
        {
          "output_type": "stream",
          "text": [
            "Enter value of a5\n",
            "Enter value of b6\n",
            "Enter value of c1\n",
            "the solutions are\n",
            " -1.0\n",
            "-0.2\n"
          ],
          "name": "stdout"
        }
      ]
    },
    {
      "cell_type": "code",
      "metadata": {
        "id": "6EceoaSmMUqi",
        "colab_type": "code",
        "colab": {}
      },
      "source": [
        ""
      ],
      "execution_count": 0,
      "outputs": []
    },
    {
      "cell_type": "code",
      "metadata": {
        "id": "g3ROIUNpTjPK",
        "colab_type": "code",
        "colab": {}
      },
      "source": [
        ""
      ],
      "execution_count": 0,
      "outputs": []
    }
  ]
}