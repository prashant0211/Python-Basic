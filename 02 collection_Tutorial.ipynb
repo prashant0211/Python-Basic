{
  "nbformat": 4,
  "nbformat_minor": 0,
  "metadata": {
    "colab": {
      "name": "collection Tutorial.ipynb",
      "provenance": [],
      "collapsed_sections": [
        "Y9C2_K_pTf_k",
        "r-DCtD4sXrxD"
      ]
    },
    "kernelspec": {
      "name": "python3",
      "display_name": "Python 3"
    }
  },
  "cells": [
    {
      "cell_type": "markdown",
      "metadata": {
        "id": "Y9C2_K_pTf_k",
        "colab_type": "text"
      },
      "source": [
        "# String Tutorial\n",
        "\n",
        "\n",
        "```\n",
        "# String is the data type of python. composed of a collection of characters.\n",
        "```\n",
        "\n"
      ]
    },
    {
      "cell_type": "code",
      "metadata": {
        "id": "iLtBEMqvTehL",
        "colab_type": "code",
        "outputId": "9309d692-c16b-40cb-86a5-ca4893434a76",
        "colab": {
          "base_uri": "https://localhost:8080/",
          "height": 35
        }
      },
      "source": [
        "# string can be initialized by single quote or double quote\n",
        "str1 = \"python\"\n",
        "str2 = 'hadoop'\n",
        "print(str1,str2)"
      ],
      "execution_count": 0,
      "outputs": [
        {
          "output_type": "stream",
          "text": [
            "python hadoop\n"
          ],
          "name": "stdout"
        }
      ]
    },
    {
      "cell_type": "code",
      "metadata": {
        "id": "iw9vjQzGVyHM",
        "colab_type": "code",
        "outputId": "171389e1-b9e1-4be4-8162-ece2fa901d84",
        "colab": {
          "base_uri": "https://localhost:8080/",
          "height": 69
        }
      },
      "source": [
        "str3 = \"\"\"this is a multiline\n",
        "string example\n",
        "in which line break is also save\"\"\"\n",
        "print(str3)"
      ],
      "execution_count": 0,
      "outputs": [
        {
          "output_type": "stream",
          "text": [
            "this is a multiline\n",
            "string example\n",
            "in which line break is also save\n"
          ],
          "name": "stdout"
        }
      ]
    },
    {
      "cell_type": "code",
      "metadata": {
        "id": "fbwDt1avWCgw",
        "colab_type": "code",
        "outputId": "156fdc2a-c885-4310-e2ad-abb89137858c",
        "colab": {
          "base_uri": "https://localhost:8080/",
          "height": 52
        }
      },
      "source": [
        "str4 = \" to use words like i'm and hasn't\"\n",
        "print(str4)\n",
        "# while using single apostrophe words inside the single quotation syntax.\n",
        "# we need to add backslash \\ symbol at the start.\n",
        "str4 = ' to use words like i\\'m and hasn\\'t'\n",
        "print(str4)\n"
      ],
      "execution_count": 0,
      "outputs": [
        {
          "output_type": "stream",
          "text": [
            " to use words like i'm and hasn't\n",
            " to use words like i'm and hasn't\n"
          ],
          "name": "stdout"
        }
      ]
    },
    {
      "cell_type": "code",
      "metadata": {
        "id": "9H6WADpsWqFm",
        "colab_type": "code",
        "outputId": "f5208332-a1c1-4576-912a-d7c8a0514a0b",
        "colab": {
          "base_uri": "https://localhost:8080/",
          "height": 139
        }
      },
      "source": [
        "print(str1)\n",
        "# it shows the length of string\n",
        "print(len(str1))\n",
        "# to print the character from string\n",
        "print(str1[3])\n",
        "# slicing of string\n",
        "print(str1[1:5])\n",
        "print(str1[:3])\n",
        "print(str1[3:])\n",
        "print(str1[::2])"
      ],
      "execution_count": 0,
      "outputs": [
        {
          "output_type": "stream",
          "text": [
            "python\n",
            "6\n",
            "h\n",
            "ytho\n",
            "pyt\n",
            "hon\n",
            "pto\n"
          ],
          "name": "stdout"
        }
      ]
    },
    {
      "cell_type": "code",
      "metadata": {
        "id": "w80c_RErXrvq",
        "colab_type": "code",
        "outputId": "6f4d9408-810f-4ac4-a2f7-3f95665dcdc7",
        "colab": {
          "base_uri": "https://localhost:8080/",
          "height": 121
        }
      },
      "source": [
        "for i in str1:\n",
        "  print(i)"
      ],
      "execution_count": 0,
      "outputs": [
        {
          "output_type": "stream",
          "text": [
            "p\n",
            "y\n",
            "t\n",
            "h\n",
            "o\n",
            "n\n"
          ],
          "name": "stdout"
        }
      ]
    },
    {
      "cell_type": "markdown",
      "metadata": {
        "id": "qWWSC-5YZzV6",
        "colab_type": "text"
      },
      "source": [
        "## String Methods"
      ]
    },
    {
      "cell_type": "code",
      "metadata": {
        "id": "XhLIpxGDYMEZ",
        "colab_type": "code",
        "outputId": "736617ec-6964-487e-b74b-c8c15673c506",
        "colab": {
          "base_uri": "https://localhost:8080/",
          "height": 52
        }
      },
      "source": [
        "# strip() removes any white spaces from begining to end\n",
        "str = \"     welcome to python     \"\n",
        "print(str)\n",
        "print(str.strip())"
      ],
      "execution_count": 0,
      "outputs": [
        {
          "output_type": "stream",
          "text": [
            "     welcome to python     \n",
            "welcome to python\n"
          ],
          "name": "stdout"
        }
      ]
    },
    {
      "cell_type": "code",
      "metadata": {
        "id": "vooNuUe9aPBT",
        "colab_type": "code",
        "outputId": "3d8a2fe7-a1df-4092-a32c-6d650404d490",
        "colab": {
          "base_uri": "https://localhost:8080/",
          "height": 35
        }
      },
      "source": [
        "# return upper case\n",
        "print(str.upper())"
      ],
      "execution_count": 0,
      "outputs": [
        {
          "output_type": "stream",
          "text": [
            "     WELCOME TO PYTHON     \n"
          ],
          "name": "stdout"
        }
      ]
    },
    {
      "cell_type": "code",
      "metadata": {
        "id": "CbuJDTQua1rv",
        "colab_type": "code",
        "outputId": "83118485-e039-4e60-9b93-60cb275358f3",
        "colab": {
          "base_uri": "https://localhost:8080/",
          "height": 35
        }
      },
      "source": [
        "# return lower case\n",
        "str = \"PYTHON\"\n",
        "print(str.lower())"
      ],
      "execution_count": 0,
      "outputs": [
        {
          "output_type": "stream",
          "text": [
            "python\n"
          ],
          "name": "stdout"
        }
      ]
    },
    {
      "cell_type": "code",
      "metadata": {
        "id": "2IPDhqRsbE0q",
        "colab_type": "code",
        "outputId": "a7938ef8-d36d-4e10-ee3b-91e79aa95526",
        "colab": {
          "base_uri": "https://localhost:8080/",
          "height": 35
        }
      },
      "source": [
        "print(str.replace(\"P\",\"R\"))"
      ],
      "execution_count": 0,
      "outputs": [
        {
          "output_type": "stream",
          "text": [
            "RYTHON\n"
          ],
          "name": "stdout"
        }
      ]
    },
    {
      "cell_type": "code",
      "metadata": {
        "id": "1pKfhEZ7bQ1K",
        "colab_type": "code",
        "outputId": "69be96cd-a6e2-4ac6-a2b1-a87a08d868be",
        "colab": {
          "base_uri": "https://localhost:8080/",
          "height": 35
        }
      },
      "source": [
        "str=\"welcome to python\"\n",
        "print(str.split(\"o\"))"
      ],
      "execution_count": 0,
      "outputs": [
        {
          "output_type": "stream",
          "text": [
            "['welc', 'me t', ' pyth', 'n']\n"
          ],
          "name": "stdout"
        }
      ]
    },
    {
      "cell_type": "code",
      "metadata": {
        "id": "H664SMjXbs4E",
        "colab_type": "code",
        "outputId": "4fd85525-c745-4e76-8919-3fb7d30f27f2",
        "colab": {
          "base_uri": "https://localhost:8080/",
          "height": 35
        }
      },
      "source": [
        "print(str.center(30,\"*\"))"
      ],
      "execution_count": 0,
      "outputs": [
        {
          "output_type": "stream",
          "text": [
            "******welcome to python*******\n"
          ],
          "name": "stdout"
        }
      ]
    },
    {
      "cell_type": "code",
      "metadata": {
        "id": "WZBRMFG8cJr0",
        "colab_type": "code",
        "outputId": "fc47c777-7a89-413e-a425-17aa89c30ec9",
        "colab": {
          "base_uri": "https://localhost:8080/",
          "height": 35
        }
      },
      "source": [
        "print(str.count(\"o\"))"
      ],
      "execution_count": 0,
      "outputs": [
        {
          "output_type": "stream",
          "text": [
            "3\n"
          ],
          "name": "stdout"
        }
      ]
    },
    {
      "cell_type": "code",
      "metadata": {
        "id": "L5HfdBdZcTFl",
        "colab_type": "code",
        "outputId": "2df25039-5c2f-4d7c-cbc9-fe521e94f128",
        "colab": {
          "base_uri": "https://localhost:8080/",
          "height": 35
        }
      },
      "source": [
        "print(str.endswith(\"on\"))"
      ],
      "execution_count": 0,
      "outputs": [
        {
          "output_type": "stream",
          "text": [
            "True\n"
          ],
          "name": "stdout"
        }
      ]
    },
    {
      "cell_type": "code",
      "metadata": {
        "id": "-bQWp_1TcdKi",
        "colab_type": "code",
        "colab": {}
      },
      "source": [
        ""
      ],
      "execution_count": 0,
      "outputs": []
    },
    {
      "cell_type": "markdown",
      "metadata": {
        "id": "7nG3OMOLctfN",
        "colab_type": "text"
      },
      "source": [
        "[python official website for string methods](https://docs.python.org/2.4/lib/string-methods.html)"
      ]
    },
    {
      "cell_type": "code",
      "metadata": {
        "id": "emPVaMWubmTN",
        "colab_type": "code",
        "colab": {}
      },
      "source": [
        ""
      ],
      "execution_count": 0,
      "outputs": []
    },
    {
      "cell_type": "markdown",
      "metadata": {
        "id": "qLy6stWRZ8Hd",
        "colab_type": "text"
      },
      "source": [
        "# List Tutorial"
      ]
    },
    {
      "cell_type": "markdown",
      "metadata": {
        "id": "otthghWraYUh",
        "colab_type": "text"
      },
      "source": [
        "\n",
        "\n",
        "```\n",
        "# A list is a collection of data.\n",
        "# It can hold values of multiple data types.\n",
        "# It is orderd and changable.\n",
        "# It is written with square brackets with comma seperated values.\n",
        "# Index starts with index 0. \n",
        "# List is starts from backside with index -1.\n",
        "# it has index\n",
        "# it allows repeted values\n",
        "```\n",
        "\n"
      ]
    },
    {
      "cell_type": "code",
      "metadata": {
        "id": "1FtthHU3aSon",
        "colab_type": "code",
        "outputId": "934ab810-8d90-4c9d-a916-5e72980b6a2d",
        "colab": {
          "base_uri": "https://localhost:8080/",
          "height": 35
        }
      },
      "source": [
        "num=[1,2,3,4,5]\n",
        "num\n",
        "l = [10,25,36,47,85,12]\n",
        "len(l)"
      ],
      "execution_count": 0,
      "outputs": [
        {
          "output_type": "execute_result",
          "data": {
            "text/plain": [
              "6"
            ]
          },
          "metadata": {
            "tags": []
          },
          "execution_count": 3
        }
      ]
    },
    {
      "cell_type": "code",
      "metadata": {
        "id": "CkhvZmHIL6Ha",
        "colab_type": "code",
        "colab": {}
      },
      "source": [
        ""
      ],
      "execution_count": 0,
      "outputs": []
    },
    {
      "cell_type": "code",
      "metadata": {
        "id": "kl79iR-YcbSl",
        "colab_type": "code",
        "outputId": "48300923-5e11-4740-b5eb-e36f0816e8c1",
        "colab": {
          "base_uri": "https://localhost:8080/",
          "height": 35
        }
      },
      "source": [
        "mix=[1,2,'a',\"python\",\"data\",3.14]\n",
        "mix"
      ],
      "execution_count": 0,
      "outputs": [
        {
          "output_type": "execute_result",
          "data": {
            "text/plain": [
              "[1, 2, 'a', 'python', 'data', 3.14]"
            ]
          },
          "metadata": {
            "tags": []
          },
          "execution_count": 4
        }
      ]
    },
    {
      "cell_type": "code",
      "metadata": {
        "id": "H5TyyAnOcsZb",
        "colab_type": "code",
        "outputId": "b7b2b4bd-7426-4d1a-eb44-002b63aba8b7",
        "colab": {
          "base_uri": "https://localhost:8080/",
          "height": 35
        }
      },
      "source": [
        "# accessing list by putting index number in square bracket.\n",
        "mix[2]"
      ],
      "execution_count": 0,
      "outputs": [
        {
          "output_type": "execute_result",
          "data": {
            "text/plain": [
              "'a'"
            ]
          },
          "metadata": {
            "tags": []
          },
          "execution_count": 5
        }
      ]
    },
    {
      "cell_type": "code",
      "metadata": {
        "id": "QBu-tEPXc1I1",
        "colab_type": "code",
        "outputId": "875b595f-443b-404c-8c4a-9734458bbe13",
        "colab": {
          "base_uri": "https://localhost:8080/",
          "height": 35
        }
      },
      "source": [
        "# accessing list from backside by putting negative index number in square bracket.\n",
        "mix[-2]"
      ],
      "execution_count": 0,
      "outputs": [
        {
          "output_type": "execute_result",
          "data": {
            "text/plain": [
              "'data'"
            ]
          },
          "metadata": {
            "tags": []
          },
          "execution_count": 6
        }
      ]
    },
    {
      "cell_type": "code",
      "metadata": {
        "id": "LLiBdRuYeFGK",
        "colab_type": "code",
        "outputId": "4fae1c6e-a515-4f88-a2b3-bb920df3d5c7",
        "colab": {
          "base_uri": "https://localhost:8080/",
          "height": 121
        }
      },
      "source": [
        "# list_name=[start:end:step]\n",
        "num = [0,1,2,3,4,5,6,7,8,9,10]\n",
        "# for accessing the small part of the list, [start index:last index-1]\n",
        "print(num[2:8])\n",
        "# if the left side value of colon is empty, it is considerd as 0\n",
        "print(num[:4])\n",
        "# if the right side value of colon is empty, is is considerd as until the end of list\n",
        "print(num[3:])\n",
        "# to access elements by a interval. here every second element.\n",
        "print(num[::2])\n",
        "# to print list in reverse order.\n",
        "print(num[::-1])\n",
        "# to acccess elements by interval with reverse order.\n",
        "print(num[::-3])"
      ],
      "execution_count": 0,
      "outputs": [
        {
          "output_type": "stream",
          "text": [
            "[2, 3, 4, 5, 6, 7]\n",
            "[0, 1, 2, 3]\n",
            "[3, 4, 5, 6, 7, 8, 9, 10]\n",
            "[0, 2, 4, 6, 8, 10]\n",
            "[10, 9, 8, 7, 6, 5, 4, 3, 2, 1, 0]\n",
            "[10, 7, 4, 1]\n"
          ],
          "name": "stdout"
        }
      ]
    },
    {
      "cell_type": "code",
      "metadata": {
        "id": "1R8sBFnQdQ5E",
        "colab_type": "code",
        "outputId": "3fdc42e7-b145-4bc5-824f-bb3fd7fc31d8",
        "colab": {
          "base_uri": "https://localhost:8080/",
          "height": 52
        }
      },
      "source": [
        "# matrix\n",
        "mat = [[11,12,13],[21,22,23],[31,32,33]]\n",
        "print(mat)\n",
        "print(mat[0][2])\n"
      ],
      "execution_count": 0,
      "outputs": [
        {
          "output_type": "stream",
          "text": [
            "[[11, 12, 13], [21, 22, 23], [31, 32, 33]]\n",
            "13\n"
          ],
          "name": "stdout"
        }
      ]
    },
    {
      "cell_type": "code",
      "metadata": {
        "id": "T71Au5QKqJz2",
        "colab_type": "code",
        "colab": {}
      },
      "source": [
        ""
      ],
      "execution_count": 0,
      "outputs": []
    },
    {
      "cell_type": "markdown",
      "metadata": {
        "id": "ItgqK10nh4-o",
        "colab_type": "text"
      },
      "source": [
        "## operations on list"
      ]
    },
    {
      "cell_type": "code",
      "metadata": {
        "id": "wblpPCgueod0",
        "colab_type": "code",
        "outputId": "3a784267-c421-433b-db2a-fa4fefcd2af6",
        "colab": {
          "base_uri": "https://localhost:8080/",
          "height": 52
        }
      },
      "source": [
        "# to add multiples of elements in the list\n",
        "z=[0]*20\n",
        "x=[1]*5\n",
        "print(z)\n",
        "print(x)"
      ],
      "execution_count": 0,
      "outputs": [
        {
          "output_type": "stream",
          "text": [
            "[0, 0, 0, 0, 0, 0, 0, 0, 0, 0, 0, 0, 0, 0, 0, 0, 0, 0, 0, 0]\n",
            "[1, 1, 1, 1, 1]\n"
          ],
          "name": "stdout"
        }
      ]
    },
    {
      "cell_type": "code",
      "metadata": {
        "id": "8VtZoeu8iC_d",
        "colab_type": "code",
        "outputId": "7411301c-c1eb-4175-9d1c-64ae5dfddc5d",
        "colab": {
          "base_uri": "https://localhost:8080/",
          "height": 35
        }
      },
      "source": [
        "# to concatinating two list\n",
        "conc = z + x\n",
        "print(conc)"
      ],
      "execution_count": 0,
      "outputs": [
        {
          "output_type": "stream",
          "text": [
            "[0, 0, 0, 0, 0, 0, 0, 0, 0, 0, 0, 0, 0, 0, 0, 0, 0, 0, 0, 0, 1, 1, 1, 1, 1]\n"
          ],
          "name": "stdout"
        }
      ]
    },
    {
      "cell_type": "code",
      "metadata": {
        "id": "d9hcJMFsd_ZC",
        "colab_type": "code",
        "outputId": "eb33eb1a-b96b-4782-b45d-948ba02942d4",
        "colab": {
          "base_uri": "https://localhost:8080/",
          "height": 35
        }
      },
      "source": [
        "# to unpack the string into a seperate character.\n",
        "# we use list()\n",
        "print(list(\"data science\"))"
      ],
      "execution_count": 0,
      "outputs": [
        {
          "output_type": "stream",
          "text": [
            "['d', 'a', 't', 'a', ' ', 's', 'c', 'i', 'e', 'n', 'c', 'e']\n"
          ],
          "name": "stdout"
        }
      ]
    },
    {
      "cell_type": "code",
      "metadata": {
        "id": "hV9M58kLqOHa",
        "colab_type": "code",
        "outputId": "1b270697-adfa-4b46-de5c-0eb66ad888da",
        "colab": {
          "base_uri": "https://localhost:8080/",
          "height": 35
        }
      },
      "source": [
        "# to create a numerical list using range function\n",
        "# range(start element, end element +1)\n",
        "list1=[]\n",
        "list1=list(range(1,6))\n",
        "print(list1)"
      ],
      "execution_count": 0,
      "outputs": [
        {
          "output_type": "stream",
          "text": [
            "[1, 2, 3, 4, 5]\n"
          ],
          "name": "stdout"
        }
      ]
    },
    {
      "cell_type": "code",
      "metadata": {
        "id": "j0Jecje7jxZK",
        "colab_type": "code",
        "outputId": "ee5c9df0-bea5-4628-90fd-691b98dcc3d2",
        "colab": {
          "base_uri": "https://localhost:8080/",
          "height": 52
        }
      },
      "source": [
        "# to seperate first element and other in into a list.\n",
        "# one and otheer are variable names.\n",
        "one, *other = num\n",
        "print(one)\n",
        "print(other)"
      ],
      "execution_count": 0,
      "outputs": [
        {
          "output_type": "stream",
          "text": [
            "0\n",
            "[1, 2, 3, 4, 5, 6, 7, 8, 9, 10]\n"
          ],
          "name": "stdout"
        }
      ]
    },
    {
      "cell_type": "markdown",
      "metadata": {
        "id": "uLEorEOTkkCe",
        "colab_type": "text"
      },
      "source": [
        "## Methods in List"
      ]
    },
    {
      "cell_type": "markdown",
      "metadata": {
        "id": "b3SVN44BmBJk",
        "colab_type": "text"
      },
      "source": [
        "\n",
        "\n",
        "*   append\n",
        "*   extend\n",
        "*   insert\n",
        "*   remove\n",
        "*   sort\n",
        "\n"
      ]
    },
    {
      "cell_type": "code",
      "metadata": {
        "id": "pWxwKGYdkjmP",
        "colab_type": "code",
        "outputId": "57b5328e-10cf-4e62-bc86-0bd2e0b3d935",
        "colab": {
          "base_uri": "https://localhost:8080/",
          "height": 35
        }
      },
      "source": [
        "# to append an element at the end of list\n",
        "num.append(11)\n",
        "print(num)"
      ],
      "execution_count": 0,
      "outputs": [
        {
          "output_type": "stream",
          "text": [
            "[0, 1, 2, 3, 4, 5, 6, 7, 8, 9, 10, 11]\n"
          ],
          "name": "stdout"
        }
      ]
    },
    {
      "cell_type": "code",
      "metadata": {
        "id": "UA1PsEk4k2Rm",
        "colab_type": "code",
        "outputId": "f1980aa1-5c53-4397-b766-3d1ee9df03d3",
        "colab": {
          "base_uri": "https://localhost:8080/",
          "height": 35
        }
      },
      "source": [
        "# to append the another list.\n",
        "num1=['a','b''c','c']\n",
        "num.extend(num1)\n",
        "print(num)"
      ],
      "execution_count": 0,
      "outputs": [
        {
          "output_type": "stream",
          "text": [
            "[0, 1, 2, 3, 4, 5, 6, 7, 8, 9, 10, 11, 'a', 'bc', 'c', 'a', 'bc', 'c']\n"
          ],
          "name": "stdout"
        }
      ]
    },
    {
      "cell_type": "code",
      "metadata": {
        "id": "sH9GJH7hlbrJ",
        "colab_type": "code",
        "outputId": "da53c874-0589-417c-96f5-d09f46ac0b45",
        "colab": {
          "base_uri": "https://localhost:8080/",
          "height": 35
        }
      },
      "source": [
        "# to add element at specific index.\n",
        "num.insert(3,\"inserted\")\n",
        "print(num)"
      ],
      "execution_count": 0,
      "outputs": [
        {
          "output_type": "stream",
          "text": [
            "[0, 1, 2, 'inserted', 3, 4, 5, 6, 7, 8, 9, 10, 11, 'a', 'bc', 'c', 'a', 'bc', 'c']\n"
          ],
          "name": "stdout"
        }
      ]
    },
    {
      "cell_type": "code",
      "metadata": {
        "id": "IAx-hZ3Xl-kr",
        "colab_type": "code",
        "outputId": "dceba36c-6f11-426a-c821-58afbd343e2e",
        "colab": {
          "base_uri": "https://localhost:8080/",
          "height": 35
        }
      },
      "source": [
        "# removes the first occurance of the element in list.\n",
        "num.remove('a')\n",
        "print(num)"
      ],
      "execution_count": 0,
      "outputs": [
        {
          "output_type": "stream",
          "text": [
            "[0, 1, 2, 'inserted', 3, 4, 5, 6, 7, 8, 9, 10, 11, 'bc', 'c', 'a', 'bc', 'c']\n"
          ],
          "name": "stdout"
        }
      ]
    },
    {
      "cell_type": "code",
      "metadata": {
        "id": "2pt3C8EYlYSG",
        "colab_type": "code",
        "outputId": "229012e3-e310-4cd5-e54d-4a08036e6a2c",
        "colab": {
          "base_uri": "https://localhost:8080/",
          "height": 35
        }
      },
      "source": [
        "# it sorts the list\n",
        "# it supports only to int or string datatype not for mix datatype list.\n",
        "new=['s','d','f','a','v','z']\n",
        "new.sort()\n",
        "print(new)"
      ],
      "execution_count": 0,
      "outputs": [
        {
          "output_type": "stream",
          "text": [
            "['a', 'd', 'f', 's', 'v', 'z']\n"
          ],
          "name": "stdout"
        }
      ]
    },
    {
      "cell_type": "markdown",
      "metadata": {
        "id": "PCuC8WI6nlHe",
        "colab_type": "text"
      },
      "source": [
        "## Built in functions with list"
      ]
    },
    {
      "cell_type": "code",
      "metadata": {
        "id": "KfdpnxKmcYsf",
        "colab_type": "code",
        "outputId": "71dcebb8-f2d7-4df9-e3e6-9881985d613a",
        "colab": {
          "base_uri": "https://localhost:8080/",
          "height": 35
        }
      },
      "source": [
        "# it returns the length of list or string\n",
        "num=[2,3,5,7,1,9,3,0,2,5]\n",
        "len(num)"
      ],
      "execution_count": 0,
      "outputs": [
        {
          "output_type": "execute_result",
          "data": {
            "text/plain": [
              "10"
            ]
          },
          "metadata": {
            "tags": []
          },
          "execution_count": 31
        }
      ]
    },
    {
      "cell_type": "code",
      "metadata": {
        "id": "jdY434HNn-SQ",
        "colab_type": "code",
        "outputId": "bb983264-5b49-4159-af6d-4ac6ad5d7b1c",
        "colab": {
          "base_uri": "https://localhost:8080/",
          "height": 35
        }
      },
      "source": [
        "# returns the minimum value from the list.\n",
        "min(num)"
      ],
      "execution_count": 0,
      "outputs": [
        {
          "output_type": "execute_result",
          "data": {
            "text/plain": [
              "0"
            ]
          },
          "metadata": {
            "tags": []
          },
          "execution_count": 32
        }
      ]
    },
    {
      "cell_type": "code",
      "metadata": {
        "id": "YKimctPLoSww",
        "colab_type": "code",
        "outputId": "8d027ada-2028-4775-ae72-9a7f5a9fda9d",
        "colab": {
          "base_uri": "https://localhost:8080/",
          "height": 35
        }
      },
      "source": [
        "# returns the maximum value from the list.\n",
        "max(num)"
      ],
      "execution_count": 0,
      "outputs": [
        {
          "output_type": "execute_result",
          "data": {
            "text/plain": [
              "9"
            ]
          },
          "metadata": {
            "tags": []
          },
          "execution_count": 33
        }
      ]
    },
    {
      "cell_type": "code",
      "metadata": {
        "id": "c4JFiJz7og-I",
        "colab_type": "code",
        "outputId": "0f718419-2186-486a-bb6d-f21e2ff770ef",
        "colab": {
          "base_uri": "https://localhost:8080/",
          "height": 35
        }
      },
      "source": [
        "# it returns the summation of the list elements.\n",
        "sum(num)"
      ],
      "execution_count": 0,
      "outputs": [
        {
          "output_type": "execute_result",
          "data": {
            "text/plain": [
              "37"
            ]
          },
          "metadata": {
            "tags": []
          },
          "execution_count": 34
        }
      ]
    },
    {
      "cell_type": "code",
      "metadata": {
        "id": "iN83E_8ZosUo",
        "colab_type": "code",
        "outputId": "c3691468-8758-4023-bf1d-3109ce87237c",
        "colab": {
          "base_uri": "https://localhost:8080/",
          "height": 35
        }
      },
      "source": [
        "# average of the list\n",
        "sum(num)/len(num)"
      ],
      "execution_count": 0,
      "outputs": [
        {
          "output_type": "execute_result",
          "data": {
            "text/plain": [
              "3.7"
            ]
          },
          "metadata": {
            "tags": []
          },
          "execution_count": 36
        }
      ]
    },
    {
      "cell_type": "code",
      "metadata": {
        "id": "waYlPGj6LCAn",
        "colab_type": "code",
        "colab": {}
      },
      "source": [
        "list."
      ],
      "execution_count": 0,
      "outputs": []
    },
    {
      "cell_type": "markdown",
      "metadata": {
        "id": "GGDmg3KW6f9w",
        "colab_type": "text"
      },
      "source": [
        "### list"
      ]
    },
    {
      "cell_type": "markdown",
      "metadata": {
        "id": "0ViVdFFR6kfi",
        "colab_type": "text"
      },
      "source": [
        "\n",
        "\n",
        "```\n",
        "[expression for i in ]\n",
        "```\n",
        "\n"
      ]
    },
    {
      "cell_type": "code",
      "metadata": {
        "id": "GZKxcdgq6ipX",
        "colab_type": "code",
        "colab": {}
      },
      "source": [
        "# even numbers\n",
        "l = range(0,101)\n",
        "[i for i in l if i%2==0]"
      ],
      "execution_count": 0,
      "outputs": []
    },
    {
      "cell_type": "code",
      "metadata": {
        "id": "5PtLIOn-7I6e",
        "colab_type": "code",
        "outputId": "eecafba2-c076-4e40-c802-3db0a3eedfa0",
        "colab": {
          "base_uri": "https://localhost:8080/",
          "height": 35
        }
      },
      "source": [
        "# square of each number\n",
        "l=range(10)\n",
        "l2= [i**2 for i in l ]\n",
        "print(l2)"
      ],
      "execution_count": 0,
      "outputs": [
        {
          "output_type": "stream",
          "text": [
            "[0, 1, 4, 9, 16, 25, 36, 49, 64, 81]\n"
          ],
          "name": "stdout"
        }
      ]
    },
    {
      "cell_type": "code",
      "metadata": {
        "id": "odHoNYcn70Y-",
        "colab_type": "code",
        "outputId": "de071285-3477-40fa-c127-8bc513c16c21",
        "colab": {
          "base_uri": "https://localhost:8080/",
          "height": 35
        }
      },
      "source": [
        "# square of each\n",
        "l=range(10)\n",
        "l2= [i**2 for i in l if i>=4 and i<=8 ]\n",
        "print(l2)"
      ],
      "execution_count": 0,
      "outputs": [
        {
          "output_type": "stream",
          "text": [
            "[16, 25, 36, 49, 64]\n"
          ],
          "name": "stdout"
        }
      ]
    },
    {
      "cell_type": "code",
      "metadata": {
        "id": "vfWcSeHz8upZ",
        "colab_type": "code",
        "outputId": "ed208951-4bbd-40ae-8f8b-aa84a63bf385",
        "colab": {
          "base_uri": "https://localhost:8080/",
          "height": 35
        }
      },
      "source": [
        "l1 = [2,3,6]\n",
        "l2 = [5,4,9]\n",
        "l = len(l1)\n",
        "l3 = [l1[i] + l2[i] for i in range(len(l1))]\n",
        "print(l3,l)"
      ],
      "execution_count": 0,
      "outputs": [
        {
          "output_type": "stream",
          "text": [
            "[7, 7, 15] 3\n"
          ],
          "name": "stdout"
        }
      ]
    },
    {
      "cell_type": "code",
      "metadata": {
        "id": "ON33Q7HP9mWQ",
        "colab_type": "code",
        "outputId": "d1fea58a-4913-495a-ad0e-db8df260bdb6",
        "colab": {
          "base_uri": "https://localhost:8080/",
          "height": 35
        }
      },
      "source": [
        "l1= [2,3,6,2]\n",
        "l2 = [5,4,9,2]\n",
        "l = len(l1)-1\n",
        "l3 = [l1[i] + l2[i+1] for i in range(l)]\n",
        "print(l3)"
      ],
      "execution_count": 0,
      "outputs": [
        {
          "output_type": "stream",
          "text": [
            "[6, 12, 8]\n"
          ],
          "name": "stdout"
        }
      ]
    },
    {
      "cell_type": "markdown",
      "metadata": {
        "id": "9NcZFLotpJ-Z",
        "colab_type": "text"
      },
      "source": [
        "**exercise**\n",
        "\n",
        "---\n",
        "\n"
      ]
    },
    {
      "cell_type": "code",
      "metadata": {
        "id": "1JmzsCB9o_S4",
        "colab_type": "code",
        "colab": {}
      },
      "source": [
        "# create a list of 1 to 10 and derive even and odd number list from the list."
      ],
      "execution_count": 0,
      "outputs": []
    },
    {
      "cell_type": "markdown",
      "metadata": {
        "id": "r-DCtD4sXrxD",
        "colab_type": "text"
      },
      "source": [
        "# Tuple Tutorial"
      ]
    },
    {
      "cell_type": "markdown",
      "metadata": {
        "id": "oOhNnm-zZia0",
        "colab_type": "text"
      },
      "source": [
        "\n",
        "\n",
        "*   tuple is immutable\n",
        "*   immutable means unchangable\n",
        "*   List is mutable\n",
        "*   it uses curv brackets\n",
        "*   tuple use or may not use brackets\n",
        "*   It is used when no need of dynamic change of values\n"
      ]
    },
    {
      "cell_type": "code",
      "metadata": {
        "id": "bAwuJwR_XvPI",
        "colab_type": "code",
        "outputId": "8a58b6c5-339c-40e4-d175-875a6c69b72d",
        "colab": {
          "base_uri": "https://localhost:8080/",
          "height": 52
        }
      },
      "source": [
        "# tuples are written as in curv brackets\n",
        "tup1 = (\"this\",\"is\",\"python\")\n",
        "print(tup1)\n",
        "type(tup1)"
      ],
      "execution_count": 0,
      "outputs": [
        {
          "output_type": "stream",
          "text": [
            "('this', 'is', 'python')\n"
          ],
          "name": "stdout"
        },
        {
          "output_type": "execute_result",
          "data": {
            "text/plain": [
              "tuple"
            ]
          },
          "metadata": {
            "tags": []
          },
          "execution_count": 6
        }
      ]
    },
    {
      "cell_type": "code",
      "metadata": {
        "id": "ihFcneYTYdUI",
        "colab_type": "code",
        "outputId": "deb17d25-21dc-43ee-fcd1-4b3c17896ba3",
        "colab": {
          "base_uri": "https://localhost:8080/",
          "height": 35
        }
      },
      "source": [
        "# sometimes single value tuple is initialize bye this way\n",
        "# comma , is very important\n",
        "# otherwise you can use curv brackets\n",
        "tup2 = \"python\",\n",
        "print(tup2)"
      ],
      "execution_count": 0,
      "outputs": [
        {
          "output_type": "stream",
          "text": [
            "('python',)\n"
          ],
          "name": "stdout"
        }
      ]
    },
    {
      "cell_type": "code",
      "metadata": {
        "id": "opT61-DvYjMy",
        "colab_type": "code",
        "outputId": "6bbf7eac-18c1-4d3f-8a83-6eeea86a6ba2",
        "colab": {
          "base_uri": "https://localhost:8080/",
          "height": 52
        }
      },
      "source": [
        "# we can initialize tuple without using brackets\n",
        "tup3 = 1,2,3,4,5\n",
        "print(tup3)\n",
        "# we can concatenate tuples\n",
        "print(tup1+tup3)\n"
      ],
      "execution_count": 0,
      "outputs": [
        {
          "output_type": "stream",
          "text": [
            "(1, 2, 3, 4, 5)\n",
            "('this', 'is', 'python', 1, 2, 3, 4, 5)\n"
          ],
          "name": "stdout"
        }
      ]
    },
    {
      "cell_type": "code",
      "metadata": {
        "id": "q1vMUxySaqSj",
        "colab_type": "code",
        "outputId": "351c8a24-598e-41ea-fa91-2f65fe356216",
        "colab": {
          "base_uri": "https://localhost:8080/",
          "height": 52
        }
      },
      "source": [
        "# Nesting tuples\n",
        "tup4 = (tup1,tup3)\n",
        "print(tup4)\n",
        "print(tup4[0][2])"
      ],
      "execution_count": 0,
      "outputs": [
        {
          "output_type": "stream",
          "text": [
            "(('this', 'is', 'python'), (1, 2, 3, 4, 5))\n",
            "python\n"
          ],
          "name": "stdout"
        }
      ]
    },
    {
      "cell_type": "code",
      "metadata": {
        "id": "-NXTG4f6Zca7",
        "colab_type": "code",
        "outputId": "e22b5cc4-dbc6-4fdd-86e9-58573e7460a8",
        "colab": {
          "base_uri": "https://localhost:8080/",
          "height": 35
        }
      },
      "source": [
        "# repation of tuple values\n",
        "print(tup2*4)"
      ],
      "execution_count": 0,
      "outputs": [
        {
          "output_type": "stream",
          "text": [
            "('python', 'python', 'python', 'python')\n"
          ],
          "name": "stdout"
        }
      ]
    },
    {
      "cell_type": "code",
      "metadata": {
        "id": "qS4BxPo9cye9",
        "colab_type": "code",
        "outputId": "b9de2130-78d6-472e-810e-4d045e6de989",
        "colab": {
          "base_uri": "https://localhost:8080/",
          "height": 156
        }
      },
      "source": [
        "# Slicing\n",
        "tup3 = 0,1,2,3,4,5,6,7,8,9\n",
        "print(tup3)\n",
        "print(tup3[:2])\n",
        "print(tup3[2:])\n",
        "print(tup3[::2])\n",
        "print(tup3[::-1])\n",
        "print(tup3[:-4])\n",
        "print(tup3[-3:])\n",
        "print(tup3[::-3])"
      ],
      "execution_count": 0,
      "outputs": [
        {
          "output_type": "stream",
          "text": [
            "(0, 1, 2, 3, 4, 5, 6, 7, 8, 9)\n",
            "(0, 1)\n",
            "(2, 3, 4, 5, 6, 7, 8, 9)\n",
            "(0, 2, 4, 6, 8)\n",
            "(9, 8, 7, 6, 5, 4, 3, 2, 1, 0)\n",
            "(0, 1, 2, 3, 4, 5)\n",
            "(7, 8, 9)\n",
            "(9, 6, 3, 0)\n"
          ],
          "name": "stdout"
        }
      ]
    },
    {
      "cell_type": "code",
      "metadata": {
        "id": "AK_2iQn1cwb0",
        "colab_type": "code",
        "outputId": "a155c2dc-3332-4517-89db-948711037be9",
        "colab": {
          "base_uri": "https://localhost:8080/",
          "height": 35
        }
      },
      "source": [
        "# Unpacking\n",
        "print(tuple(\"python\"))\n"
      ],
      "execution_count": 0,
      "outputs": [
        {
          "output_type": "stream",
          "text": [
            "('p', 'y', 't', 'h', 'o', 'n')\n"
          ],
          "name": "stdout"
        }
      ]
    },
    {
      "cell_type": "code",
      "metadata": {
        "id": "RXLU_rf3YmoD",
        "colab_type": "code",
        "outputId": "bc18c4a3-5b13-4f22-be1b-8ec15ec4f945",
        "colab": {
          "base_uri": "https://localhost:8080/",
          "height": 35
        }
      },
      "source": [
        "# Unpacking, assigning tuple values to variable\n",
        "# it is easy when you know elements in the tuple\n",
        "num = 1,2,3\n",
        "a,b,c = num\n",
        "print(a,b,c)"
      ],
      "execution_count": 0,
      "outputs": [
        {
          "output_type": "stream",
          "text": [
            "1 2 3\n"
          ],
          "name": "stdout"
        }
      ]
    },
    {
      "cell_type": "code",
      "metadata": {
        "id": "76KHZSvDejPN",
        "colab_type": "code",
        "outputId": "3cdaafbc-7239-4ad5-afee-3a657767be48",
        "colab": {
          "base_uri": "https://localhost:8080/",
          "height": 35
        }
      },
      "source": [
        "# when elements of tuple are unknown then use this way\n",
        "# a is containing stat element\n",
        "# c containing last element\n",
        "# *b is create a list which contain all elements except first and last\n",
        "num = 1,2,3,4,5,6\n",
        "a,*b,c = num\n",
        "print(a,b,c)"
      ],
      "execution_count": 0,
      "outputs": [
        {
          "output_type": "stream",
          "text": [
            "1 [2, 3, 4, 5] 6\n"
          ],
          "name": "stdout"
        }
      ]
    },
    {
      "cell_type": "code",
      "metadata": {
        "id": "ljKuvucCfBWX",
        "colab_type": "code",
        "colab": {}
      },
      "source": [
        "# delet the tuple\n",
        "del num"
      ],
      "execution_count": 0,
      "outputs": []
    },
    {
      "cell_type": "code",
      "metadata": {
        "id": "dMUmNJUEgFH3",
        "colab_type": "code",
        "outputId": "fb5cbbf2-c64c-463f-c71a-20aafbeb377e",
        "colab": {
          "base_uri": "https://localhost:8080/",
          "height": 35
        }
      },
      "source": [
        "# Built in functions\n",
        "num1 = (3,4,3,2,7,5,6,0,9,1,4)\n",
        "num1.count(3)"
      ],
      "execution_count": 0,
      "outputs": [
        {
          "output_type": "execute_result",
          "data": {
            "text/plain": [
              "2"
            ]
          },
          "metadata": {
            "tags": []
          },
          "execution_count": 23
        }
      ]
    },
    {
      "cell_type": "code",
      "metadata": {
        "id": "r_p9blwUgakf",
        "colab_type": "code",
        "outputId": "f2fc8dac-e5bd-4d8f-d5f0-86002e7ba090",
        "colab": {
          "base_uri": "https://localhost:8080/",
          "height": 35
        }
      },
      "source": [
        "sum(num1)"
      ],
      "execution_count": 0,
      "outputs": [
        {
          "output_type": "execute_result",
          "data": {
            "text/plain": [
              "44"
            ]
          },
          "metadata": {
            "tags": []
          },
          "execution_count": 24
        }
      ]
    },
    {
      "cell_type": "code",
      "metadata": {
        "id": "pIaeAdoSgfyK",
        "colab_type": "code",
        "outputId": "2ba148a8-9a76-4299-9f3d-aa587fa72171",
        "colab": {
          "base_uri": "https://localhost:8080/",
          "height": 35
        }
      },
      "source": [
        "len(num1)"
      ],
      "execution_count": 0,
      "outputs": [
        {
          "output_type": "execute_result",
          "data": {
            "text/plain": [
              "11"
            ]
          },
          "metadata": {
            "tags": []
          },
          "execution_count": 25
        }
      ]
    },
    {
      "cell_type": "code",
      "metadata": {
        "id": "DEPDOqOHgicL",
        "colab_type": "code",
        "outputId": "01bc4e60-e63f-402a-f661-93f181355fd4",
        "colab": {
          "base_uri": "https://localhost:8080/",
          "height": 52
        }
      },
      "source": [
        "print(max(num1))\n",
        "min(num1)"
      ],
      "execution_count": 0,
      "outputs": [
        {
          "output_type": "stream",
          "text": [
            "9\n"
          ],
          "name": "stdout"
        },
        {
          "output_type": "execute_result",
          "data": {
            "text/plain": [
              "0"
            ]
          },
          "metadata": {
            "tags": []
          },
          "execution_count": 27
        }
      ]
    },
    {
      "cell_type": "code",
      "metadata": {
        "id": "G5F5icypgoq9",
        "colab_type": "code",
        "outputId": "088a8d52-cf05-4a46-c38b-628a3ce076cf",
        "colab": {
          "base_uri": "https://localhost:8080/",
          "height": 69
        }
      },
      "source": [
        "# converting list to tuple\n",
        "lst = [1,2,3,4]\n",
        "print(type(lst))\n",
        "tup= tuple(lst)\n",
        "print(type(tup))\n",
        "print(tup)"
      ],
      "execution_count": 0,
      "outputs": [
        {
          "output_type": "stream",
          "text": [
            "<class 'list'>\n",
            "<class 'tuple'>\n",
            "(1, 2, 3, 4)\n"
          ],
          "name": "stdout"
        }
      ]
    },
    {
      "cell_type": "code",
      "metadata": {
        "id": "B7JVLyL8hSSp",
        "colab_type": "code",
        "outputId": "3dfb4a96-9ec3-4949-d401-c6575a5173da",
        "colab": {
          "base_uri": "https://localhost:8080/",
          "height": 52
        }
      },
      "source": [
        "# tuple in list\n",
        "lst = [(1,2,3,4,),6,7,8,(\"hii\",\"bye\"),\"python\"]\n",
        "print(lst)\n",
        "print(type(lst))"
      ],
      "execution_count": 0,
      "outputs": [
        {
          "output_type": "stream",
          "text": [
            "[(1, 2, 3, 4), 6, 7, 8, ('hii', 'bye'), 'python']\n",
            "<class 'list'>\n"
          ],
          "name": "stdout"
        }
      ]
    },
    {
      "cell_type": "code",
      "metadata": {
        "id": "dJBQNDCShmH1",
        "colab_type": "code",
        "outputId": "368157fd-7ab4-4c8c-a7b5-e3a05525dba0",
        "colab": {
          "base_uri": "https://localhost:8080/",
          "height": 52
        }
      },
      "source": [
        "lst.append((4,3,2,1))\n",
        "print(lst)\n",
        "lst.remove((1,2,3,4))\n",
        "print(lst)"
      ],
      "execution_count": 0,
      "outputs": [
        {
          "output_type": "stream",
          "text": [
            "[(1, 2, 3, 4), 6, 7, 8, ('hii', 'bye'), 'python', (4, 3, 2, 1)]\n",
            "[6, 7, 8, ('hii', 'bye'), 'python', (4, 3, 2, 1)]\n"
          ],
          "name": "stdout"
        }
      ]
    },
    {
      "cell_type": "code",
      "metadata": {
        "id": "usrCi3IWiDBk",
        "colab_type": "code",
        "outputId": "a64960b4-a8bf-42b6-b8e2-df51842e7e1a",
        "colab": {
          "base_uri": "https://localhost:8080/",
          "height": 35
        }
      },
      "source": [
        "# list in tuple\n",
        "tup = (\"python\",[1,2,3,4])\n",
        "print(tup)\n"
      ],
      "execution_count": 0,
      "outputs": [
        {
          "output_type": "stream",
          "text": [
            "('python', [1, 2, 3, 4])\n"
          ],
          "name": "stdout"
        }
      ]
    },
    {
      "cell_type": "code",
      "metadata": {
        "id": "yYCf1qEqiVcI",
        "colab_type": "code",
        "outputId": "24b2c2ea-0a19-4446-f703-d57aa7919f0d",
        "colab": {
          "base_uri": "https://localhost:8080/",
          "height": 35
        }
      },
      "source": [
        "#\n",
        "tup[1].append(\"append\")\n",
        "print(tup)"
      ],
      "execution_count": 0,
      "outputs": [
        {
          "output_type": "stream",
          "text": [
            "('python', [1, 2, 3, 4, 'append'])\n"
          ],
          "name": "stdout"
        }
      ]
    },
    {
      "cell_type": "code",
      "metadata": {
        "id": "Lhw3--V9rUhD",
        "colab_type": "code",
        "outputId": "8eac2a7d-4196-4bdd-8587-ae1f33e62a2e",
        "colab": {
          "base_uri": "https://localhost:8080/",
          "height": 35
        }
      },
      "source": [
        "tup.index(\"python\")"
      ],
      "execution_count": 0,
      "outputs": [
        {
          "output_type": "execute_result",
          "data": {
            "text/plain": [
              "0"
            ]
          },
          "metadata": {
            "tags": []
          },
          "execution_count": 48
        }
      ]
    },
    {
      "cell_type": "code",
      "metadata": {
        "id": "YNSr4C-praDv",
        "colab_type": "code",
        "colab": {}
      },
      "source": [
        ""
      ],
      "execution_count": 0,
      "outputs": []
    },
    {
      "cell_type": "markdown",
      "metadata": {
        "id": "aHgrp-8QlC4X",
        "colab_type": "text"
      },
      "source": [
        "## exercise\n",
        "\n",
        "\n",
        "1.   create tuple1(0,1,2,3,4,5,6,7,8,9)\n",
        "2.   create tuple2  using tuple1 by adding 10 (0,1,2,3,4,5,6,7,8,9,10)\n",
        "3.   create tuple3 using tuple2 by concatenating reverse of tuple1\n",
        "\n"
      ]
    },
    {
      "cell_type": "code",
      "metadata": {
        "id": "0OsT6giBimCo",
        "colab_type": "code",
        "outputId": "8609a1f3-925e-41c5-fe17-769e781af617",
        "colab": {
          "base_uri": "https://localhost:8080/",
          "height": 35
        }
      },
      "source": [
        "tup1 =tuple(range(0,10))\n",
        "print(tup1)"
      ],
      "execution_count": 0,
      "outputs": [
        {
          "output_type": "stream",
          "text": [
            "(0, 1, 2, 3, 4, 5, 6, 7, 8, 9)\n"
          ],
          "name": "stdout"
        }
      ]
    },
    {
      "cell_type": "code",
      "metadata": {
        "id": "UKqDTfKri9jL",
        "colab_type": "code",
        "outputId": "2562c78c-9701-4634-bd00-eb15d92955d2",
        "colab": {
          "base_uri": "https://localhost:8080/",
          "height": 35
        }
      },
      "source": [
        "temp = 10,\n",
        "#tup2 = tup1 + temp\n",
        "tup2 = tup1 + (10,)\n",
        "print(tup2)"
      ],
      "execution_count": 0,
      "outputs": [
        {
          "output_type": "stream",
          "text": [
            "(0, 1, 2, 3, 4, 5, 6, 7, 8, 9, 10)\n"
          ],
          "name": "stdout"
        }
      ]
    },
    {
      "cell_type": "code",
      "metadata": {
        "id": "-dAcfgBMjH0b",
        "colab_type": "code",
        "outputId": "8cf7fc29-8d44-4a5f-c2e2-ec1875e167f6",
        "colab": {
          "base_uri": "https://localhost:8080/",
          "height": 35
        }
      },
      "source": [
        "tup3 = tup2 + tup1[::-1]\n",
        "print(tup3)"
      ],
      "execution_count": 0,
      "outputs": [
        {
          "output_type": "stream",
          "text": [
            "(0, 1, 2, 3, 4, 5, 6, 7, 8, 9, 10, 9, 8, 7, 6, 5, 4, 3, 2, 1, 0)\n"
          ],
          "name": "stdout"
        }
      ]
    },
    {
      "cell_type": "code",
      "metadata": {
        "id": "boI6o7BCsN83",
        "colab_type": "code",
        "colab": {}
      },
      "source": [
        ""
      ],
      "execution_count": 0,
      "outputs": []
    },
    {
      "cell_type": "markdown",
      "metadata": {
        "id": "u6fhDZd-sTLY",
        "colab_type": "text"
      },
      "source": [
        ""
      ]
    },
    {
      "cell_type": "markdown",
      "metadata": {
        "id": "yXD2bRH1shGQ",
        "colab_type": "text"
      },
      "source": [
        "# Dictionary Tutorial"
      ]
    },
    {
      "cell_type": "markdown",
      "metadata": {
        "id": "b1MT6zcZRb-m",
        "colab_type": "text"
      },
      "source": [
        "\n",
        "\n",
        "*   Dictionary is an unorderd collection of data stored as a pair of key and values\n",
        "*   variable_name = {key1 : value1, key2 : value2 ...}\n",
        "*   keys should be unique\n",
        "*   when keys are duplicate it overwrite the values and shows the last update value for the key\n",
        "\n"
      ]
    },
    {
      "cell_type": "code",
      "metadata": {
        "id": "w44LsxsCsmfO",
        "colab_type": "code",
        "outputId": "86a602c6-b357-416e-82d0-d6c3d6b5047d",
        "colab": {
          "base_uri": "https://localhost:8080/",
          "height": 35
        }
      },
      "source": [
        "d1 = {}\n",
        "print(type(d1))\n",
        "# for accessing\n",
        "# dictionary_ name[key]"
      ],
      "execution_count": 0,
      "outputs": [
        {
          "output_type": "stream",
          "text": [
            "<class 'dict'>\n"
          ],
          "name": "stdout"
        }
      ]
    },
    {
      "cell_type": "code",
      "metadata": {
        "id": "heSG3pNqSI2f",
        "colab_type": "code",
        "outputId": "2e51c902-787d-4bbe-ca5b-039f7556a12d",
        "colab": {
          "base_uri": "https://localhost:8080/",
          "height": 35
        }
      },
      "source": [
        "d2 = {1:\"welcome\",2:\"to\",3:\"python\"}\n",
        "print(d2)"
      ],
      "execution_count": 0,
      "outputs": [
        {
          "output_type": "stream",
          "text": [
            "{1: 'welcome', 2: 'to', 3: 'python'}\n"
          ],
          "name": "stdout"
        }
      ]
    },
    {
      "cell_type": "code",
      "metadata": {
        "id": "hLCxaNkLSaaW",
        "colab_type": "code",
        "colab": {}
      },
      "source": [
        "#d3 = dict({1:\"welcome\",2:\"to\",3:\"python\"})\n",
        "#print(d3)"
      ],
      "execution_count": 0,
      "outputs": []
    },
    {
      "cell_type": "code",
      "metadata": {
        "id": "YGqMU0LjSw1q",
        "colab_type": "code",
        "colab": {}
      },
      "source": [
        "#d4 = dict([(1,\"python\"),(2,\"hadoop\"),(3,\"numpy\")])\n",
        "#print(d4)"
      ],
      "execution_count": 0,
      "outputs": []
    },
    {
      "cell_type": "code",
      "metadata": {
        "id": "XYxrp-x2UbRg",
        "colab_type": "code",
        "outputId": "48ca7ba0-34ce-4787-8a0b-664c60ba7fea",
        "colab": {
          "base_uri": "https://localhost:8080/",
          "height": 35
        }
      },
      "source": [
        "d5 = {1:\"welcome\",2:\"to\",3:{1:\"python\",2:\"java\"}}\n",
        "print(d5)"
      ],
      "execution_count": 0,
      "outputs": [
        {
          "output_type": "stream",
          "text": [
            "{1: 'welcome', 2: 'to', 3: {1: 'python', 2: 'java'}}\n"
          ],
          "name": "stdout"
        }
      ]
    },
    {
      "cell_type": "code",
      "metadata": {
        "id": "U0RuaoVGVZg-",
        "colab_type": "code",
        "outputId": "82f52695-b41d-4ea3-b4c5-499092fa589c",
        "colab": {
          "base_uri": "https://localhost:8080/",
          "height": 35
        }
      },
      "source": [
        "d={}\n",
        "\n",
        "d[0]=\"python\"\n",
        "print(d)"
      ],
      "execution_count": 0,
      "outputs": [
        {
          "output_type": "stream",
          "text": [
            "{0: 'python'}\n"
          ],
          "name": "stdout"
        }
      ]
    },
    {
      "cell_type": "code",
      "metadata": {
        "id": "ZfmOLWN4VxSA",
        "colab_type": "code",
        "outputId": "b4bafcca-ea0d-4c28-b34f-e08b2aea3620",
        "colab": {
          "base_uri": "https://localhost:8080/",
          "height": 35
        }
      },
      "source": [
        "d[\"numpy\"]=\"numpy\"\n",
        "print(d)"
      ],
      "execution_count": 0,
      "outputs": [
        {
          "output_type": "stream",
          "text": [
            "{0: 'python', 'numpy': 'numpy'}\n"
          ],
          "name": "stdout"
        }
      ]
    },
    {
      "cell_type": "code",
      "metadata": {
        "id": "n4I9TVQUWAVp",
        "colab_type": "code",
        "outputId": "510d68c3-f21d-4470-ad0a-7fa3dfbd5a90",
        "colab": {
          "base_uri": "https://localhost:8080/",
          "height": 35
        }
      },
      "source": [
        "\n",
        "d[0]=\"java\"\n",
        "d"
      ],
      "execution_count": 0,
      "outputs": [
        {
          "output_type": "execute_result",
          "data": {
            "text/plain": [
              "{0: 'java', 'numpy': 'numpy'}"
            ]
          },
          "metadata": {
            "tags": []
          },
          "execution_count": 25
        }
      ]
    },
    {
      "cell_type": "code",
      "metadata": {
        "id": "80FTyMR-WO5e",
        "colab_type": "code",
        "outputId": "25ec7002-5f8e-4dba-f385-14e23b24c5d5",
        "colab": {
          "base_uri": "https://localhost:8080/",
          "height": 35
        }
      },
      "source": [
        "print(d.get(\"numpy\"))\n",
        "# if there is key not found it dosent show error\n",
        "# d.get(\"A\",0) key, default value\n",
        "# defalut value is None"
      ],
      "execution_count": 0,
      "outputs": [
        {
          "output_type": "stream",
          "text": [
            "numpy\n"
          ],
          "name": "stdout"
        }
      ]
    },
    {
      "cell_type": "markdown",
      "metadata": {
        "id": "2rCUeqiP6jwq",
        "colab_type": "text"
      },
      "source": [
        "### Built in functions"
      ]
    },
    {
      "cell_type": "code",
      "metadata": {
        "id": "cYhN1-6rW15C",
        "colab_type": "code",
        "outputId": "ee68c997-71aa-4e5f-f107-e1b192eb03a2",
        "colab": {
          "base_uri": "https://localhost:8080/",
          "height": 35
        }
      },
      "source": [
        "d =  {1:\"java\",2:\"python\",3:\"php\"}\n",
        "# shows the all values\n",
        "# list of values\n",
        "d.values()"
      ],
      "execution_count": 0,
      "outputs": [
        {
          "output_type": "execute_result",
          "data": {
            "text/plain": [
              "dict_values(['java', 'python', 'php'])"
            ]
          },
          "metadata": {
            "tags": []
          },
          "execution_count": 2
        }
      ]
    },
    {
      "cell_type": "code",
      "metadata": {
        "id": "VWSKgGUz66rv",
        "colab_type": "code",
        "outputId": "e6b42244-811e-4dff-92bb-ab4d3296f955",
        "colab": {
          "base_uri": "https://localhost:8080/",
          "height": 35
        }
      },
      "source": [
        "keys= (1,2,3,4)\n",
        "values = \"a\"\n",
        "dict.fromkeys(keys,values)"
      ],
      "execution_count": 0,
      "outputs": [
        {
          "output_type": "execute_result",
          "data": {
            "text/plain": [
              "{1: 'a', 2: 'a', 3: 'a', 4: 'a'}"
            ]
          },
          "metadata": {
            "tags": []
          },
          "execution_count": 3
        }
      ]
    },
    {
      "cell_type": "code",
      "metadata": {
        "id": "YOSOQnn27YxO",
        "colab_type": "code",
        "outputId": "f57e0d5b-a902-45e6-9897-49edb6ab649a",
        "colab": {
          "base_uri": "https://localhost:8080/",
          "height": 35
        }
      },
      "source": [
        "d.clear()\n",
        "print(d)"
      ],
      "execution_count": 0,
      "outputs": [
        {
          "output_type": "stream",
          "text": [
            "{}\n"
          ],
          "name": "stdout"
        }
      ]
    },
    {
      "cell_type": "code",
      "metadata": {
        "id": "fT9SNTvU7he3",
        "colab_type": "code",
        "outputId": "7ed82fec-0daf-4792-a750-e796e6db3bf9",
        "colab": {
          "base_uri": "https://localhost:8080/",
          "height": 35
        }
      },
      "source": [
        "# shows the all keys\n",
        "d =  {1:\"java\",2:\"python\",3:\"php\"}\n",
        "d.keys()"
      ],
      "execution_count": 0,
      "outputs": [
        {
          "output_type": "execute_result",
          "data": {
            "text/plain": [
              "dict_keys([1, 2, 3])"
            ]
          },
          "metadata": {
            "tags": []
          },
          "execution_count": 6
        }
      ]
    },
    {
      "cell_type": "code",
      "metadata": {
        "id": "wAoiwP0vjbyA",
        "colab_type": "code",
        "outputId": "29488086-04fa-45bd-8045-104ef10a80ef",
        "colab": {
          "base_uri": "https://localhost:8080/",
          "height": 35
        }
      },
      "source": [
        "d.popitem()"
      ],
      "execution_count": 0,
      "outputs": [
        {
          "output_type": "execute_result",
          "data": {
            "text/plain": [
              "(3, 'php')"
            ]
          },
          "metadata": {
            "tags": []
          },
          "execution_count": 7
        }
      ]
    },
    {
      "cell_type": "code",
      "metadata": {
        "id": "KUWANBqWlsNF",
        "colab_type": "code",
        "colab": {}
      },
      "source": [
        "d =  {1:\"java\",2:\"python\",3:\"php\"}\n"
      ],
      "execution_count": 0,
      "outputs": []
    },
    {
      "cell_type": "code",
      "metadata": {
        "id": "cBlB7U9Poizo",
        "colab_type": "code",
        "colab": {}
      },
      "source": [
        "d1={\"a\":1,\"b\":2,\"c\":3}\n",
        "d2={\"c\":4,\"d\":5,\"e\":3}\n",
        "# update the dictionary with present values and adding the new values\n",
        "d1.update(d2)"
      ],
      "execution_count": 0,
      "outputs": []
    },
    {
      "cell_type": "code",
      "metadata": {
        "id": "HbZZ23QsonV0",
        "colab_type": "code",
        "outputId": "479cc591-879a-4c1b-bc2e-6adf2b25c1bd",
        "colab": {
          "base_uri": "https://localhost:8080/",
          "height": 35
        }
      },
      "source": [
        "d1"
      ],
      "execution_count": 0,
      "outputs": [
        {
          "output_type": "execute_result",
          "data": {
            "text/plain": [
              "{'a': 1, 'b': 2, 'c': 4, 'd': 5, 'e': 3}"
            ]
          },
          "metadata": {
            "tags": []
          },
          "execution_count": 10
        }
      ]
    },
    {
      "cell_type": "markdown",
      "metadata": {
        "id": "p0W8TlEA7nxK",
        "colab_type": "text"
      },
      "source": [
        "# Set Tuturial"
      ]
    },
    {
      "cell_type": "markdown",
      "metadata": {
        "id": "CcPl-W1N7tzR",
        "colab_type": "text"
      },
      "source": [
        "\n",
        "\n",
        "*   set is unorderd collection of unique elements\n",
        "*   variable_name = set([1,2,3,4])\n",
        "\n"
      ]
    },
    {
      "cell_type": "code",
      "metadata": {
        "id": "Y9DsEq7I7rXV",
        "colab_type": "code",
        "outputId": "925505bb-4d36-4b4c-b94f-4793a5f845ca",
        "colab": {
          "base_uri": "https://localhost:8080/",
          "height": 35
        }
      },
      "source": [
        "s=set([1,2,3,4])\n",
        "print(type(s),s)"
      ],
      "execution_count": 0,
      "outputs": [
        {
          "output_type": "stream",
          "text": [
            "<class 'set'> {1, 2, 3, 4}\n"
          ],
          "name": "stdout"
        }
      ]
    },
    {
      "cell_type": "code",
      "metadata": {
        "id": "U65qA3dx8Rst",
        "colab_type": "code",
        "outputId": "b3ef6bd9-73be-4fd9-cf56-9870b9c001de",
        "colab": {
          "base_uri": "https://localhost:8080/",
          "height": 35
        }
      },
      "source": [
        "s.add(\"a\")\n",
        "print(s)"
      ],
      "execution_count": 0,
      "outputs": [
        {
          "output_type": "stream",
          "text": [
            "{1, 2, 3, 4, 'a'}\n"
          ],
          "name": "stdout"
        }
      ]
    },
    {
      "cell_type": "code",
      "metadata": {
        "id": "EkE8P1jK8Wu6",
        "colab_type": "code",
        "outputId": "6329e724-760e-459c-c700-1b9753846cfc",
        "colab": {
          "base_uri": "https://localhost:8080/",
          "height": 35
        }
      },
      "source": [
        "fs=frozenset([1,2,3,4])\n",
        "print(fs)"
      ],
      "execution_count": 0,
      "outputs": [
        {
          "output_type": "stream",
          "text": [
            "frozenset({1, 2, 3, 4})\n"
          ],
          "name": "stdout"
        }
      ]
    },
    {
      "cell_type": "code",
      "metadata": {
        "id": "KLEFIC9c8kUj",
        "colab_type": "code",
        "colab": {}
      },
      "source": [
        "s1 = set([1,3,5,2,4])\n",
        "s2 = set([1,2,3,4,8,9])"
      ],
      "execution_count": 0,
      "outputs": []
    },
    {
      "cell_type": "code",
      "metadata": {
        "id": "6LOz3az388TT",
        "colab_type": "code",
        "outputId": "e6977bf0-d3d1-4a9a-e24f-bdec656d2ea9",
        "colab": {
          "base_uri": "https://localhost:8080/",
          "height": 35
        }
      },
      "source": [
        "s1.union(s2)"
      ],
      "execution_count": 0,
      "outputs": [
        {
          "output_type": "execute_result",
          "data": {
            "text/plain": [
              "{1, 2, 3, 4, 5, 8, 9}"
            ]
          },
          "metadata": {
            "tags": []
          },
          "execution_count": 10
        }
      ]
    },
    {
      "cell_type": "code",
      "metadata": {
        "id": "catSYVN58_vE",
        "colab_type": "code",
        "outputId": "c1e7763a-8967-4699-fdfc-a00a220c1d94",
        "colab": {
          "base_uri": "https://localhost:8080/",
          "height": 35
        }
      },
      "source": [
        "s2.difference(s1)"
      ],
      "execution_count": 0,
      "outputs": [
        {
          "output_type": "execute_result",
          "data": {
            "text/plain": [
              "{8, 9}"
            ]
          },
          "metadata": {
            "tags": []
          },
          "execution_count": 12
        }
      ]
    },
    {
      "cell_type": "code",
      "metadata": {
        "id": "T38Szbkr9JYW",
        "colab_type": "code",
        "outputId": "840cb2eb-fe78-4d18-83d3-513e59fb6a05",
        "colab": {
          "base_uri": "https://localhost:8080/",
          "height": 35
        }
      },
      "source": [
        "s1 == s2\n"
      ],
      "execution_count": 0,
      "outputs": [
        {
          "output_type": "execute_result",
          "data": {
            "text/plain": [
              "False"
            ]
          },
          "metadata": {
            "tags": []
          },
          "execution_count": 14
        }
      ]
    },
    {
      "cell_type": "code",
      "metadata": {
        "id": "y2W_mS599WiG",
        "colab_type": "code",
        "outputId": "b20cdfca-0e1c-4975-a2eb-8bd8c295ceba",
        "colab": {
          "base_uri": "https://localhost:8080/",
          "height": 35
        }
      },
      "source": [
        "s2>s2"
      ],
      "execution_count": 0,
      "outputs": [
        {
          "output_type": "execute_result",
          "data": {
            "text/plain": [
              "False"
            ]
          },
          "metadata": {
            "tags": []
          },
          "execution_count": 15
        }
      ]
    },
    {
      "cell_type": "code",
      "metadata": {
        "id": "WVkvoYt79agM",
        "colab_type": "code",
        "outputId": "0d210df2-f1df-4562-fc2f-595be1bc44f6",
        "colab": {
          "base_uri": "https://localhost:8080/",
          "height": 35
        }
      },
      "source": [
        "1 in s1"
      ],
      "execution_count": 0,
      "outputs": [
        {
          "output_type": "execute_result",
          "data": {
            "text/plain": [
              "True"
            ]
          },
          "metadata": {
            "tags": []
          },
          "execution_count": 16
        }
      ]
    },
    {
      "cell_type": "code",
      "metadata": {
        "id": "pdRLAbvb9ea3",
        "colab_type": "code",
        "outputId": "f0e7188d-6a33-4658-ab7c-cb5847b4a067",
        "colab": {
          "base_uri": "https://localhost:8080/",
          "height": 35
        }
      },
      "source": [
        "1 not in s2"
      ],
      "execution_count": 0,
      "outputs": [
        {
          "output_type": "execute_result",
          "data": {
            "text/plain": [
              "False"
            ]
          },
          "metadata": {
            "tags": []
          },
          "execution_count": 17
        }
      ]
    },
    {
      "cell_type": "code",
      "metadata": {
        "id": "8yotjslk9jyx",
        "colab_type": "code",
        "outputId": "71a07a5a-30ec-4e04-c222-6837a80cee61",
        "colab": {
          "base_uri": "https://localhost:8080/",
          "height": 35
        }
      },
      "source": [
        "s1 ^ s2"
      ],
      "execution_count": 0,
      "outputs": [
        {
          "output_type": "execute_result",
          "data": {
            "text/plain": [
              "{5, 8, 9}"
            ]
          },
          "metadata": {
            "tags": []
          },
          "execution_count": 18
        }
      ]
    },
    {
      "cell_type": "code",
      "metadata": {
        "id": "ulzXJ-d-9myr",
        "colab_type": "code",
        "colab": {}
      },
      "source": [
        ""
      ],
      "execution_count": 0,
      "outputs": []
    }
  ]
}