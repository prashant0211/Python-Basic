{
  "nbformat": 4,
  "nbformat_minor": 0,
  "metadata": {
    "colab": {
      "name": "control statements.ipynb",
      "provenance": [],
      "collapsed_sections": []
    },
    "kernelspec": {
      "name": "python3",
      "display_name": "Python 3"
    }
  },
  "cells": [
    {
      "cell_type": "markdown",
      "metadata": {
        "id": "K1PxBXUfy-4V",
        "colab_type": "text"
      },
      "source": [
        "# Control Statements"
      ]
    },
    {
      "cell_type": "markdown",
      "metadata": {
        "id": "Km0zPEv0puK_",
        "colab_type": "text"
      },
      "source": [
        "\n",
        "1.   Selection\n",
        "2.   Iteration\n",
        "\n",
        "\n",
        "\n"
      ]
    },
    {
      "cell_type": "markdown",
      "metadata": {
        "id": "J1kh7Zouy-12",
        "colab_type": "text"
      },
      "source": [
        "\n",
        "*   if\n",
        "*   if - else\n",
        "*   if - elif - else\n",
        "*  while loop\n",
        "*  for loop\n",
        "*  break\n",
        "*  continue\n",
        "*  assert\n",
        "*  pass\n",
        "\n"
      ]
    },
    {
      "cell_type": "markdown",
      "metadata": {
        "id": "LCiszsSiKtHF",
        "colab_type": "text"
      },
      "source": [
        "## if-else statement"
      ]
    },
    {
      "cell_type": "markdown",
      "metadata": {
        "id": "F9ZHdR0HqgGk",
        "colab_type": "text"
      },
      "source": [
        "\n",
        "\n",
        "```\n",
        "# syntax\n",
        "if expression:\n",
        "  if_block\n",
        "```\n",
        "\n"
      ]
    },
    {
      "cell_type": "code",
      "metadata": {
        "id": "-nxd2wb2tPNe",
        "colab_type": "code",
        "outputId": "abf950e3-548f-4c0a-96f6-4cb77ee7147d",
        "colab": {
          "base_uri": "https://localhost:8080/",
          "height": 52
        }
      },
      "source": [
        "b = int(input(\"enter a number\"))\n",
        "if b>0:\n",
        "  print(\"+ve\")"
      ],
      "execution_count": 0,
      "outputs": [
        {
          "output_type": "stream",
          "text": [
            "enter a number67\n",
            "+ve\n"
          ],
          "name": "stdout"
        }
      ]
    },
    {
      "cell_type": "markdown",
      "metadata": {
        "id": "mRR6j0AJtCJE",
        "colab_type": "text"
      },
      "source": [
        "\n",
        "\n",
        "```\n",
        "# syntax\n",
        "if expression:\n",
        "  if_block\n",
        "else:\n",
        "  else_block\n",
        "```\n",
        "\n"
      ]
    },
    {
      "cell_type": "code",
      "metadata": {
        "id": "0ZvHVm3Tye6O",
        "colab_type": "code",
        "outputId": "3efa461c-f659-4f2b-c07d-7eb1da0963b1",
        "colab": {
          "base_uri": "https://localhost:8080/",
          "height": 52
        }
      },
      "source": [
        "a = int(input(\"enter a number\"))\n",
        "if a%2==0:\n",
        "  print(\"even number\")\n",
        "else:\n",
        "  print(\"odd number\")"
      ],
      "execution_count": 0,
      "outputs": [
        {
          "output_type": "stream",
          "text": [
            "enter a number23\n",
            "odd number\n"
          ],
          "name": "stdout"
        }
      ]
    },
    {
      "cell_type": "markdown",
      "metadata": {
        "id": "Opknl3UWLza5",
        "colab_type": "text"
      },
      "source": [
        "## if-elif-else"
      ]
    },
    {
      "cell_type": "code",
      "metadata": {
        "id": "gCz2SG-Jw2zK",
        "colab_type": "code",
        "outputId": "d5331c36-7940-4883-a511-46090295f80f",
        "colab": {
          "base_uri": "https://localhost:8080/",
          "height": 35
        }
      },
      "source": [
        "if False:\n",
        "    print(1)\n",
        "elif True:\n",
        "    print(2)\n",
        "elif False:\n",
        "    print(3)\n",
        "elif True:\n",
        "    print(4)\n",
        "else:\n",
        "    print(5)"
      ],
      "execution_count": 0,
      "outputs": [
        {
          "output_type": "stream",
          "text": [
            "2\n"
          ],
          "name": "stdout"
        }
      ]
    },
    {
      "cell_type": "code",
      "metadata": {
        "id": "JZOHthaa0V_q",
        "colab_type": "code",
        "outputId": "30d49b48-7def-40c2-8d08-9001f8cd9f8b",
        "colab": {
          "base_uri": "https://localhost:8080/",
          "height": 87
        }
      },
      "source": [
        "a = int(input(\"enter number a\"))\n",
        "b = int(input(\"enter number b\"))\n",
        "c = int(input(\"enter number c\"))\n",
        "if a>b and a>c:\n",
        "  print(a,\"is largest number\")\n",
        "elif b>c and b>a:\n",
        "  print(b,\"is largest number\")\n",
        "else:\n",
        "  print(c,\"is largest number\")"
      ],
      "execution_count": 0,
      "outputs": [
        {
          "output_type": "stream",
          "text": [
            "enter number a9\n",
            "enter number b0\n",
            "enter number c8\n",
            "9 is largest number\n"
          ],
          "name": "stdout"
        }
      ]
    },
    {
      "cell_type": "markdown",
      "metadata": {
        "id": "dgFSEDB-OP41",
        "colab_type": "text"
      },
      "source": [
        "**while loop**\n",
        "\n",
        "---\n",
        "\n",
        "\n",
        "```\n",
        "while expression:\n",
        "  block\n",
        "```\n",
        "\n",
        "\n"
      ]
    },
    {
      "cell_type": "code",
      "metadata": {
        "id": "1w1o7JrIOQlR",
        "colab_type": "code",
        "outputId": "c3076473-d16b-43e2-ff29-92e0008d3900",
        "colab": {
          "base_uri": "https://localhost:8080/",
          "height": 191
        }
      },
      "source": [
        "a=0\n",
        "while a < 10:\n",
        "  print(a)\n",
        "  a+=1\n"
      ],
      "execution_count": 0,
      "outputs": [
        {
          "output_type": "stream",
          "text": [
            "0\n",
            "1\n",
            "2\n",
            "3\n",
            "4\n",
            "5\n",
            "6\n",
            "7\n",
            "8\n",
            "9\n"
          ],
          "name": "stdout"
        }
      ]
    },
    {
      "cell_type": "markdown",
      "metadata": {
        "id": "O2LUU3O9SLvi",
        "colab_type": "text"
      },
      "source": [
        "**For loop**\n",
        "\n",
        "---\n",
        "\n",
        "\n",
        "\n",
        "\n",
        "```\n",
        "for val in sequence:\n",
        "  statements\n",
        "```\n",
        "\n"
      ]
    },
    {
      "cell_type": "code",
      "metadata": {
        "id": "xFod0DcEEqY5",
        "colab_type": "code",
        "outputId": "9eaf35e0-ae4f-4a3f-f2d8-5cb4e52277c6",
        "colab": {
          "base_uri": "https://localhost:8080/",
          "height": 69
        }
      },
      "source": [
        "for i in [1,2,3]:\n",
        "  print(i)"
      ],
      "execution_count": 0,
      "outputs": [
        {
          "output_type": "stream",
          "text": [
            "1\n",
            "2\n",
            "3\n"
          ],
          "name": "stdout"
        }
      ]
    },
    {
      "cell_type": "code",
      "metadata": {
        "id": "1mYK-0_HGoC7",
        "colab_type": "code",
        "outputId": "38e00fa9-28b7-49c7-e0a8-dac3b932abfd",
        "colab": {
          "base_uri": "https://localhost:8080/",
          "height": 35
        }
      },
      "source": [
        "# wap to find sum of all values in a list\n",
        "l= [2,4,8,9,10]\n",
        "sum=0\n",
        "for i in l:\n",
        "    sum = sum + i # sum += i\n",
        "print(sum)"
      ],
      "execution_count": 0,
      "outputs": [
        {
          "output_type": "stream",
          "text": [
            "33\n"
          ],
          "name": "stdout"
        }
      ]
    },
    {
      "cell_type": "code",
      "metadata": {
        "id": "UgEU5DV8SMRw",
        "colab_type": "code",
        "outputId": "2511be03-a355-4354-85d5-5fcb1ab104b2",
        "colab": {
          "base_uri": "https://localhost:8080/",
          "height": 104
        }
      },
      "source": [
        "\n",
        "for i in range(0,5):\n",
        "  print(i)\n",
        " "
      ],
      "execution_count": 0,
      "outputs": [
        {
          "output_type": "stream",
          "text": [
            "0\n",
            "1\n",
            "2\n",
            "3\n",
            "4\n"
          ],
          "name": "stdout"
        }
      ]
    },
    {
      "cell_type": "markdown",
      "metadata": {
        "id": "iAjRLDw_NpFV",
        "colab_type": "text"
      },
      "source": [
        "### Break and continue"
      ]
    },
    {
      "cell_type": "code",
      "metadata": {
        "id": "dE-T5Os8G7LA",
        "colab_type": "code",
        "outputId": "9a9085b5-d313-4b57-a79a-f2d4613b6bb0",
        "colab": {
          "base_uri": "https://localhost:8080/",
          "height": 69
        }
      },
      "source": [
        "# break is used to terminate the loop\n",
        "l = [\"apple\",\"banana\",'orange','pineapple','mango']\n",
        "for i in l:\n",
        "    print(i)\n",
        "    if i == \"orange\":\n",
        "        break"
      ],
      "execution_count": 0,
      "outputs": [
        {
          "output_type": "stream",
          "text": [
            "apple\n",
            "banana\n",
            "orange\n"
          ],
          "name": "stdout"
        }
      ]
    },
    {
      "cell_type": "code",
      "metadata": {
        "id": "hljg3SFePs6j",
        "colab_type": "code",
        "outputId": "bb44e1bd-3984-4847-ba98-f29c41fe3793",
        "colab": {
          "base_uri": "https://localhost:8080/",
          "height": 87
        }
      },
      "source": [
        "# continue is used to skip the loop\n",
        "l = [\"apple\",\"banana\",'orange','pineapple','mango']\n",
        "for i in l:\n",
        "    \n",
        "    if i == \"orange\":\n",
        "        continue\n",
        "    print(i)    \n",
        "    "
      ],
      "execution_count": 0,
      "outputs": [
        {
          "output_type": "stream",
          "text": [
            "apple\n",
            "banana\n",
            "pineapple\n",
            "mango\n"
          ],
          "name": "stdout"
        }
      ]
    },
    {
      "cell_type": "markdown",
      "metadata": {
        "id": "XrEeJ2IvOj0K",
        "colab_type": "text"
      },
      "source": [
        "\n",
        "\n",
        "```\n",
        "Python Pass. In Python, pass keyword is used to execute nothing;\n",
        "it means, when we don't want to execute code,\n",
        "the pass can be used to execute empty.\n",
        "It is same as the name refers to.\n",
        "It just makes the control to pass by without executing any code.\n",
        "If we want to bypass any code pass statement can be used.\n",
        "```\n",
        "\n"
      ]
    },
    {
      "cell_type": "code",
      "metadata": {
        "id": "PV1Gh5lEPu66",
        "colab_type": "code",
        "colab": {}
      },
      "source": [
        "#Pass keyword\n",
        "l = [\"apple\",\"banana\",'orange','pineapple','mango']\n",
        "for i in l:\n",
        "    pass"
      ],
      "execution_count": 0,
      "outputs": []
    },
    {
      "cell_type": "markdown",
      "metadata": {
        "id": "w7Hz2DFcRxTo",
        "colab_type": "text"
      },
      "source": [
        "\n",
        "\n",
        "```\n",
        "Assertions in any programming language are the debugging tools \n",
        "which help in smooth flow of code. Assertions are mainly assumptions\n",
        " that a programmer knows always wants to be true and hence puts them \n",
        " in code so that failure of them doesn’t allow the code to execute further.\n",
        "```\n",
        "\n"
      ]
    },
    {
      "cell_type": "code",
      "metadata": {
        "id": "0m4rjfF9STel",
        "colab_type": "code",
        "outputId": "c1d37a64-432f-4ea9-c864-013c90a1587f",
        "colab": {
          "base_uri": "https://localhost:8080/",
          "height": 204
        }
      },
      "source": [
        "x = \"hello\"\n",
        "\n",
        "#if condition returns True, then nothing happens:\n",
        "assert x == \"hello\"\n",
        "\n",
        "#if condition returns False, AssertionError is raised:\n",
        "assert x == \"goodbye\""
      ],
      "execution_count": 0,
      "outputs": [
        {
          "output_type": "error",
          "ename": "AssertionError",
          "evalue": "ignored",
          "traceback": [
            "\u001b[0;31m---------------------------------------------------------------------------\u001b[0m",
            "\u001b[0;31mAssertionError\u001b[0m                            Traceback (most recent call last)",
            "\u001b[0;32m<ipython-input-3-255728e46539>\u001b[0m in \u001b[0;36m<module>\u001b[0;34m()\u001b[0m\n\u001b[1;32m      5\u001b[0m \u001b[0;34m\u001b[0m\u001b[0m\n\u001b[1;32m      6\u001b[0m \u001b[0;31m#if condition returns False, AssertionError is raised:\u001b[0m\u001b[0;34m\u001b[0m\u001b[0;34m\u001b[0m\u001b[0;34m\u001b[0m\u001b[0m\n\u001b[0;32m----> 7\u001b[0;31m \u001b[0;32massert\u001b[0m \u001b[0mx\u001b[0m \u001b[0;34m==\u001b[0m \u001b[0;34m\"goodbye\"\u001b[0m\u001b[0;34m\u001b[0m\u001b[0;34m\u001b[0m\u001b[0m\n\u001b[0m",
            "\u001b[0;31mAssertionError\u001b[0m: "
          ]
        }
      ]
    },
    {
      "cell_type": "code",
      "metadata": {
        "id": "Kcv_p0CAPpDU",
        "colab_type": "code",
        "outputId": "14ed2f41-a128-4267-8d0b-87c8084720f7",
        "colab": {
          "base_uri": "https://localhost:8080/",
          "height": 293
        }
      },
      "source": [
        "# initializing list of foods temperatures \n",
        "batch = [ 40, 26, 39, 30, 25, 21] \n",
        "  \n",
        "# initializing cut temperature \n",
        "cut = 26\n",
        "# using assert to check for temperature greater than cut \n",
        "for i in batch: \n",
        "    assert i >= 26, \"Batch is Rejected\"\n",
        "    print (str(i) + \" is O.K\" ) "
      ],
      "execution_count": 0,
      "outputs": [
        {
          "output_type": "stream",
          "text": [
            "40 is O.K\n",
            "26 is O.K\n",
            "39 is O.K\n",
            "30 is O.K\n"
          ],
          "name": "stdout"
        },
        {
          "output_type": "error",
          "ename": "AssertionError",
          "evalue": "ignored",
          "traceback": [
            "\u001b[0;31m---------------------------------------------------------------------------\u001b[0m",
            "\u001b[0;31mAssertionError\u001b[0m                            Traceback (most recent call last)",
            "\u001b[0;32m<ipython-input-5-111e9225b531>\u001b[0m in \u001b[0;36m<module>\u001b[0;34m()\u001b[0m\n\u001b[1;32m      5\u001b[0m \u001b[0;31m# using assert to check for temperature greater than cut\u001b[0m\u001b[0;34m\u001b[0m\u001b[0;34m\u001b[0m\u001b[0;34m\u001b[0m\u001b[0m\n\u001b[1;32m      6\u001b[0m \u001b[0;32mfor\u001b[0m \u001b[0mi\u001b[0m \u001b[0;32min\u001b[0m \u001b[0mbatch\u001b[0m\u001b[0;34m:\u001b[0m\u001b[0;34m\u001b[0m\u001b[0;34m\u001b[0m\u001b[0m\n\u001b[0;32m----> 7\u001b[0;31m     \u001b[0;32massert\u001b[0m \u001b[0mi\u001b[0m \u001b[0;34m>=\u001b[0m \u001b[0;36m26\u001b[0m\u001b[0;34m,\u001b[0m \u001b[0;34m\"Batch is Rejected\"\u001b[0m\u001b[0;34m\u001b[0m\u001b[0;34m\u001b[0m\u001b[0m\n\u001b[0m\u001b[1;32m      8\u001b[0m     \u001b[0mprint\u001b[0m \u001b[0;34m(\u001b[0m\u001b[0mstr\u001b[0m\u001b[0;34m(\u001b[0m\u001b[0mi\u001b[0m\u001b[0;34m)\u001b[0m \u001b[0;34m+\u001b[0m \u001b[0;34m\" is O.K\"\u001b[0m \u001b[0;34m)\u001b[0m\u001b[0;34m\u001b[0m\u001b[0;34m\u001b[0m\u001b[0m\n",
            "\u001b[0;31mAssertionError\u001b[0m: Batch is Rejected"
          ]
        }
      ]
    },
    {
      "cell_type": "code",
      "metadata": {
        "id": "ZNwzmGPKSuCv",
        "colab_type": "code",
        "colab": {}
      },
      "source": [
        ""
      ],
      "execution_count": 0,
      "outputs": []
    }
  ]
}